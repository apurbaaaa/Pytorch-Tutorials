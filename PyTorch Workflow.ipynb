{
 "cells": [
  {
   "cell_type": "code",
   "execution_count": 1,
   "id": "92a28296-cf22-4eeb-b14b-66ee796eed62",
   "metadata": {},
   "outputs": [],
   "source": [
    "import torch\n",
    "import numpy as np\n",
    "import pandas as pd\n",
    "import matplotlib.pyplot as plt\n",
    "import os\n",
    "from torch import nn"
   ]
  },
  {
   "cell_type": "code",
   "execution_count": 2,
   "id": "6440c3ba-86e5-4132-ba1b-8819868b5a35",
   "metadata": {},
   "outputs": [
    {
     "data": {
      "text/plain": [
       "'2.5.1'"
      ]
     },
     "execution_count": 2,
     "metadata": {},
     "output_type": "execute_result"
    }
   ],
   "source": [
    "torch.__version__"
   ]
  },
  {
   "cell_type": "code",
   "execution_count": 3,
   "id": "6a9bf0d4-872a-4836-aff5-f1adda426670",
   "metadata": {},
   "outputs": [
    {
     "data": {
      "text/plain": [
       "True"
      ]
     },
     "execution_count": 3,
     "metadata": {},
     "output_type": "execute_result"
    }
   ],
   "source": [
    "torch.mps.is_available()"
   ]
  },
  {
   "cell_type": "markdown",
   "id": "f6aa90f9-4ebe-47b6-ba91-9a98659b88fa",
   "metadata": {},
   "source": [
    "# Creating data using Linear Regression\n",
    "\n",
    "#### Linear Regression equation: Y = a + bx"
   ]
  },
  {
   "cell_type": "code",
   "execution_count": 4,
   "id": "fa7b1a1a-0054-4df9-801e-008b8537a7b8",
   "metadata": {},
   "outputs": [],
   "source": [
    "#creating known parameters\n",
    "weight = 0.7 #b\n",
    "bias = 0.3 #a"
   ]
  },
  {
   "cell_type": "code",
   "execution_count": 5,
   "id": "5434c6b6-a21d-457a-814d-39ce21f8a529",
   "metadata": {},
   "outputs": [],
   "source": [
    "#Creating data\n",
    "start = 0\n",
    "end = 1\n",
    "\n",
    "step = 0.02\n",
    "X = torch.arange(start, end, step)"
   ]
  },
  {
   "cell_type": "code",
   "execution_count": 6,
   "id": "93e7ff25-cc43-418b-8e5a-c569c4302e9a",
   "metadata": {},
   "outputs": [
    {
     "data": {
      "text/plain": [
       "(tensor([0.0000, 0.0200, 0.0400, 0.0600, 0.0800, 0.1000, 0.1200, 0.1400, 0.1600,\n",
       "         0.1800, 0.2000, 0.2200, 0.2400, 0.2600, 0.2800, 0.3000, 0.3200, 0.3400,\n",
       "         0.3600, 0.3800, 0.4000, 0.4200, 0.4400, 0.4600, 0.4800, 0.5000, 0.5200,\n",
       "         0.5400, 0.5600, 0.5800, 0.6000, 0.6200, 0.6400, 0.6600, 0.6800, 0.7000,\n",
       "         0.7200, 0.7400, 0.7600, 0.7800, 0.8000, 0.8200, 0.8400, 0.8600, 0.8800,\n",
       "         0.9000, 0.9200, 0.9400, 0.9600, 0.9800]),\n",
       " torch.Size([50]))"
      ]
     },
     "execution_count": 6,
     "metadata": {},
     "output_type": "execute_result"
    }
   ],
   "source": [
    "X, X.size()"
   ]
  },
  {
   "cell_type": "code",
   "execution_count": 7,
   "id": "bd80e70d-7bb5-4b46-8120-5b2dda0cb296",
   "metadata": {},
   "outputs": [],
   "source": [
    "X = X.unsqueeze(dim = 1)"
   ]
  },
  {
   "cell_type": "code",
   "execution_count": 8,
   "id": "30554f4b-7ebb-4878-9d1f-98b560135260",
   "metadata": {},
   "outputs": [
    {
     "data": {
      "text/plain": [
       "torch.Size([50, 1])"
      ]
     },
     "execution_count": 8,
     "metadata": {},
     "output_type": "execute_result"
    }
   ],
   "source": [
    "X.size()"
   ]
  },
  {
   "cell_type": "code",
   "execution_count": 9,
   "id": "cfa01788-4626-40ec-a423-97dd9888ff56",
   "metadata": {},
   "outputs": [],
   "source": [
    "Y = bias + weight * X"
   ]
  },
  {
   "cell_type": "code",
   "execution_count": 10,
   "id": "c8f056c3-e308-42e7-b1b2-3998f8dbbac9",
   "metadata": {},
   "outputs": [
    {
     "data": {
      "text/plain": [
       "tensor([[0.0000],\n",
       "        [0.0200],\n",
       "        [0.0400],\n",
       "        [0.0600],\n",
       "        [0.0800],\n",
       "        [0.1000],\n",
       "        [0.1200],\n",
       "        [0.1400],\n",
       "        [0.1600],\n",
       "        [0.1800]])"
      ]
     },
     "execution_count": 10,
     "metadata": {},
     "output_type": "execute_result"
    }
   ],
   "source": [
    "X[:10]"
   ]
  },
  {
   "cell_type": "code",
   "execution_count": 11,
   "id": "87ca333f-c8f3-4841-8347-35c40b77acea",
   "metadata": {},
   "outputs": [
    {
     "data": {
      "text/plain": [
       "tensor([[0.3000],\n",
       "        [0.3140],\n",
       "        [0.3280],\n",
       "        [0.3420],\n",
       "        [0.3560],\n",
       "        [0.3700],\n",
       "        [0.3840],\n",
       "        [0.3980],\n",
       "        [0.4120],\n",
       "        [0.4260]])"
      ]
     },
     "execution_count": 11,
     "metadata": {},
     "output_type": "execute_result"
    }
   ],
   "source": [
    "Y[:10]"
   ]
  },
  {
   "cell_type": "code",
   "execution_count": 12,
   "id": "90c176af-7dec-40ec-9aa8-97a73a47f68b",
   "metadata": {},
   "outputs": [
    {
     "data": {
      "text/plain": [
       "(50, 50)"
      ]
     },
     "execution_count": 12,
     "metadata": {},
     "output_type": "execute_result"
    }
   ],
   "source": [
    "len(X), len(Y)"
   ]
  },
  {
   "cell_type": "code",
   "execution_count": 13,
   "id": "ddc984cd-73eb-44a5-a3a5-389611b27f3d",
   "metadata": {},
   "outputs": [],
   "source": [
    "train_split = int(0.8 * len(X))\n",
    "X_train, y_train = X[:train_split], Y[:train_split]\n",
    "X_test , y_test = X[train_split: ], Y[train_split:]"
   ]
  },
  {
   "cell_type": "code",
   "execution_count": 14,
   "id": "f4f8c539-5171-44e2-9819-a771bf64d5af",
   "metadata": {},
   "outputs": [
    {
     "data": {
      "text/plain": [
       "(40, 40, 10, 10)"
      ]
     },
     "execution_count": 14,
     "metadata": {},
     "output_type": "execute_result"
    }
   ],
   "source": [
    "len(X_train), len(y_train), len(X_test), len(y_test)"
   ]
  },
  {
   "cell_type": "code",
   "execution_count": 15,
   "id": "a270d809-560c-42a8-86a3-0c21b35ce1d5",
   "metadata": {},
   "outputs": [],
   "source": [
    "def plot_predictions(train_data = X_train, train_labels = y_train, test_data = X_test, test_labels = y_test, predictions = None):\n",
    "    plt.figure(figsize=(10,7))\n",
    "\n",
    "    plt.scatter(train_data, train_labels, c = 'b', s=4, label = \"training data\")\n",
    "    plt.scatter(test_data, test_labels, c = 'g', s=4, label = \"test data\")\n",
    "\n",
    "    if (predictions is not None):\n",
    "        plt.scatter(test_data, predictions, c = \"r\", s = 4, label = \"predictions\")\n",
    "    plt.legend(prop = {\"size\":14})"
   ]
  },
  {
   "cell_type": "code",
   "execution_count": 16,
   "id": "3afd52c0-2446-4f9e-a5ae-ae1357709573",
   "metadata": {},
   "outputs": [
    {
     "data": {
      "image/png": "[encoded data removed]",
      "text/plain": [
       "<Figure size 1000x700 with 1 Axes>"
      ]
     },
     "metadata": {},
     "output_type": "display_data"
    }
   ],
   "source": [
    "plot_predictions()"
   ]
  },
  {
   "cell_type": "markdown",
   "id": "76ed6eaa-2fa1-47b2-b39f-ad2a03b479cc",
   "metadata": {},
   "source": [
    "### Creating linear regression model, using PyTorch"
   ]
  },
  {
   "cell_type": "code",
   "execution_count": 17,
   "id": "52ec244d-7e25-4094-9b67-fb4181d99289",
   "metadata": {},
   "outputs": [],
   "source": [
    "class LinearRegressionModel(nn.Module):\n",
    "    def __init__(self):\n",
    "        super().__init__()\n",
    "        self.weights = nn.Parameter(torch.randn(1, requires_grad = True, dtype = torch.float)) #helps with gradientdescent and back propagation\n",
    "        self.bias = nn.Parameter(torch.randn(1, requires_grad = True, dtype = torch.float))\n",
    "\n",
    "    #forward method to define computation in the model\n",
    "    def forward(self, x: torch.Tensor)-> torch.Tensor: #forward function needed bt nn.Module method, it defines the calculation (formula)\n",
    "        return self.weights * x + self.bias#regression formula"
   ]
  },
  {
   "cell_type": "markdown",
   "id": "fb41509d-588a-4265-afaa-1fe805c3d7e8",
   "metadata": {},
   "source": [
    "\n",
    "### PyTorch module\tWhat does it do?\n",
    "\n",
    "* torch.nn\tContains all of the building blocks for computational graphs (essentially a series of computations executed in a particular way).\n",
    "* torch.nn.Parameter\tStores tensors that can be used with nn.Module. If requires_grad=True gradients (used for updating model parameters via gradient descent) are calculated automatically, this is often referred to as \"autograd\".\n",
    "* torch.nn.Module\tThe base class for all neural network modules, all the building blocks for neural networks are subclasses. If you're building a neural network in PyTorch, your models should subclass nn.Module. Requires a forward() method be implemented.\n",
    "* torch.optim\tContains various optimization algorithms (these tell the model parameters stored in nn.Parameter how to best change to improve gradient descent and in turn reduce the loss).\n",
    "* def forward()\tAll nn.Module subclasses require a forward() method, this defines the computation that will take place on the data passed to the particular nn.Module (e.g. the linear regression formula above).\n",
    "If the above sounds complex, think of like this, almost everything in a PyTorch neural network comes from torch.nn,\n",
    "\n",
    "* nn.Module contains the larger building blocks (layers)\n",
    "* nn.Parameter contains the smaller parameters like weights and biases (put these together to make nn.Module(s))\n",
    "* forward() tells the larger blocks how to make calculations on inputs (tensors full of data) within nn.Module(s)\n",
    "* torch.optim contains optimization methods on how to improve the parameters within nn.Parameter to better represent input data"
   ]
  },
  {
   "cell_type": "code",
   "execution_count": 18,
   "id": "aefb8e92-db6c-40ee-b9b8-c4763cf08015",
   "metadata": {},
   "outputs": [
    {
     "data": {
      "text/plain": [
       "[Parameter containing:\n",
       " tensor([0.3367], requires_grad=True),\n",
       " Parameter containing:\n",
       " tensor([0.1288], requires_grad=True)]"
      ]
     },
     "execution_count": 18,
     "metadata": {},
     "output_type": "execute_result"
    }
   ],
   "source": [
    "#using random seed for random values\n",
    "torch.manual_seed(42)\n",
    "model_0 = LinearRegressionModel() #instance of model\n",
    "\n",
    "list(model_0.parameters())"
   ]
  },
  {
   "cell_type": "code",
   "execution_count": 19,
   "id": "1f8fbdd7-546c-42a7-a022-a518e70d29a8",
   "metadata": {},
   "outputs": [
    {
     "data": {
      "text/plain": [
       "OrderedDict([('weights', tensor([0.3367])), ('bias', tensor([0.1288]))])"
      ]
     },
     "execution_count": 19,
     "metadata": {},
     "output_type": "execute_result"
    }
   ],
   "source": [
    "model_0.state_dict() #lists named params"
   ]
  },
  {
   "cell_type": "markdown",
   "id": "89e509eb-72d2-4faa-a53d-6c3f5b0f4903",
   "metadata": {},
   "source": [
    "### prediction using `torch.inference_mode()`"
   ]
  },
  {
   "cell_type": "code",
   "execution_count": 20,
   "id": "3f592544-da4b-4ed0-a37a-4ac29288d987",
   "metadata": {},
   "outputs": [],
   "source": [
    "with torch.inference_mode(): #if you see `torch.no_grad` used anywhere, please use inference_mode\n",
    "    y_preds = model_0(X_test)"
   ]
  },
  {
   "cell_type": "code",
   "execution_count": 21,
   "id": "20ad3c55-6c1e-446a-8d47-d877b1ebadd4",
   "metadata": {},
   "outputs": [
    {
     "data": {
      "text/plain": [
       "tensor([[0.3982],\n",
       "        [0.4049],\n",
       "        [0.4116],\n",
       "        [0.4184],\n",
       "        [0.4251],\n",
       "        [0.4318],\n",
       "        [0.4386],\n",
       "        [0.4453],\n",
       "        [0.4520],\n",
       "        [0.4588]])"
      ]
     },
     "execution_count": 21,
     "metadata": {},
     "output_type": "execute_result"
    }
   ],
   "source": [
    "y_preds"
   ]
  },
  {
   "cell_type": "code",
   "execution_count": 22,
   "id": "53811b6a-82d6-4308-a008-343ef9eb264a",
   "metadata": {},
   "outputs": [
    {
     "data": {
      "text/plain": [
       "tensor([[0.8600],\n",
       "        [0.8740],\n",
       "        [0.8880],\n",
       "        [0.9020],\n",
       "        [0.9160],\n",
       "        [0.9300],\n",
       "        [0.9440],\n",
       "        [0.9580],\n",
       "        [0.9720],\n",
       "        [0.9860]])"
      ]
     },
     "execution_count": 22,
     "metadata": {},
     "output_type": "execute_result"
    }
   ],
   "source": [
    "y_test"
   ]
  },
  {
   "cell_type": "code",
   "execution_count": 23,
   "id": "b197c6c8-a262-47c6-a7e1-c982b01f7386",
   "metadata": {},
   "outputs": [
    {
     "data": {
      "image/png": "[encoded data removed]",
      "text/plain": [
       "<Figure size 1000x700 with 1 Axes>"
      ]
     },
     "metadata": {},
     "output_type": "display_data"
    }
   ],
   "source": [
    "plot_predictions(X_train, y_train, X_test, y_test, y_preds)"
   ]
  },
  {
   "cell_type": "markdown",
   "id": "23379127-eddb-4b56-9ad4-672fb7ec3cfe",
   "metadata": {},
   "source": [
    "Right now our model is making predictions using random parameters to make calculations, it's basically guessing (randomly).\n",
    "\n",
    "To fix that, we can update its internal parameters (I also refer to parameters as patterns), the weights and bias values we set randomly using nn.Parameter() and torch.randn() to be something that better represents the data.\n",
    "\n",
    "We could hard code this (since we know the default values weight=0.7 and bias=0.3) but where's the fun in that?\n",
    "\n",
    "Much of the time you won't know what the ideal parameters are for a model.\n",
    "\n",
    "Instead, it's much more fun to write code to see if the model can try and figure them out itself.\n",
    "\n",
    "Creating a loss function and optimizer in PyTorch\n",
    "For our model to update its parameters on its own, we'll need to add a few more things to our recipe.\n",
    "\n",
    "And that's a loss function as well as an optimizer."
   ]
  },
  {
   "cell_type": "code",
   "execution_count": 24,
   "id": "de23bbcf-b57b-43ee-a2a8-584967b4d628",
   "metadata": {},
   "outputs": [],
   "source": [
    "# Create the loss function\n",
    "loss_fn = nn.L1Loss() # MAE loss is same as L1Loss\n",
    "\n",
    "# Create the optimizer\n",
    "optimizer = torch.optim.SGD(params=model_0.parameters(), # parameters of target model to optimize\n",
    "                            lr=0.01) # learning rate (how much the optimizer should change parameters at each step, higher=more (less stable),\n",
    "                                     # lower=less (might take a long time))"
   ]
  },
  {
   "cell_type": "markdown",
   "id": "89297e3e-a255-4a74-9a2d-1137b268cc91",
   "metadata": {},
   "source": [
    "### Creating the training loop"
   ]
  },
  {
   "cell_type": "code",
   "execution_count": 25,
   "id": "4ac5d985-771c-48c3-8edb-a0e943e5653b",
   "metadata": {},
   "outputs": [
    {
     "name": "stdout",
     "output_type": "stream",
     "text": [
      "Epoch: 0 | MAE Train Loss: 0.31288138031959534 | MAE Test Loss: 0.48106518387794495 \n",
      "Epoch: 10 | MAE Train Loss: 0.1976713240146637 | MAE Test Loss: 0.3463551998138428 \n",
      "Epoch: 20 | MAE Train Loss: 0.08908725529909134 | MAE Test Loss: 0.21729660034179688 \n",
      "Epoch: 30 | MAE Train Loss: 0.053148526698350906 | MAE Test Loss: 0.14464017748832703 \n",
      "Epoch: 40 | MAE Train Loss: 0.04543796554207802 | MAE Test Loss: 0.11360953003168106 \n",
      "Epoch: 50 | MAE Train Loss: 0.04167863354086876 | MAE Test Loss: 0.09919948130846024 \n",
      "Epoch: 60 | MAE Train Loss: 0.03818932920694351 | MAE Test Loss: 0.08886633068323135 \n",
      "Epoch: 70 | MAE Train Loss: 0.03476089984178543 | MAE Test Loss: 0.0805937647819519 \n",
      "Epoch: 80 | MAE Train Loss: 0.03132382780313492 | MAE Test Loss: 0.07232122868299484 \n",
      "Epoch: 90 | MAE Train Loss: 0.02788740023970604 | MAE Test Loss: 0.06473556160926819 \n"
     ]
    }
   ],
   "source": [
    "torch.manual_seed(42)\n",
    "\n",
    "# Set the number of epochs (how many times the model will pass over the training data)\n",
    "epochs = 100\n",
    "\n",
    "# Create empty loss lists to track values\n",
    "train_loss_values = []\n",
    "test_loss_values = []\n",
    "epoch_count = []\n",
    "\n",
    "for epoch in range(epochs):\n",
    "    ### Training\n",
    "\n",
    "    # Put model in training mode (this is the default state of a model)\n",
    "    model_0.train()\n",
    "\n",
    "    # 1. Forward pass on train data using the forward() method inside \n",
    "    y_pred = model_0(X_train)\n",
    "    # print(y_pred)\n",
    "\n",
    "    # 2. Calculate the loss (how different are our models predictions to the ground truth)\n",
    "    loss = loss_fn(y_pred, y_train)\n",
    "\n",
    "    # 3. Zero grad of the optimizer\n",
    "    optimizer.zero_grad()\n",
    "\n",
    "    # 4. Loss backwards\n",
    "    loss.backward()\n",
    "\n",
    "    # 5. Progress the optimizer\n",
    "    optimizer.step()\n",
    "\n",
    "    ### Testing\n",
    "\n",
    "    # Put the model in evaluation mode\n",
    "    model_0.eval()\n",
    "\n",
    "    with torch.inference_mode():\n",
    "      # 1. Forward pass on test data\n",
    "      test_pred = model_0(X_test)\n",
    "\n",
    "      # 2. Caculate loss on test data\n",
    "      test_loss = loss_fn(test_pred, y_test.type(torch.float)) # predictions come in torch.float datatype, so comparisons need to be done with tensors of the same type\n",
    "\n",
    "      # Print out what's happening\n",
    "      if epoch % 10 == 0:\n",
    "            epoch_count.append(epoch)\n",
    "            train_loss_values.append(loss.detach().numpy())\n",
    "            test_loss_values.append(test_loss.detach().numpy())\n",
    "            print(f\"Epoch: {epoch} | MAE Train Loss: {loss} | MAE Test Loss: {test_loss} \")"
   ]
  },
  {
   "cell_type": "code",
   "execution_count": 26,
   "id": "3871012e-f1be-4778-9af9-c13b33db7bf4",
   "metadata": {},
   "outputs": [
    {
     "data": {
      "image/png": "[encoded data removed]",
      "text/plain": [
       "<Figure size 1000x700 with 1 Axes>"
      ]
     },
     "metadata": {},
     "output_type": "display_data"
    }
   ],
   "source": [
    "plot_predictions(X_train, y_train, X_test, y_test, test_pred)"
   ]
  },
  {
   "cell_type": "code",
   "execution_count": 27,
   "id": "5cee71de-09f3-4157-960b-45fa6403a040",
   "metadata": {},
   "outputs": [
    {
     "data": {
      "text/plain": [
       "OrderedDict([('weights', tensor([0.5784])), ('bias', tensor([0.3513]))])"
      ]
     },
     "execution_count": 27,
     "metadata": {},
     "output_type": "execute_result"
    }
   ],
   "source": [
    "model_0.state_dict()"
   ]
  },
  {
   "cell_type": "markdown",
   "id": "30e131ae-145f-4d6e-a2f9-2938fa9deecd",
   "metadata": {},
   "source": [
    "### PyTorch Save and Load\n",
    "\n",
    "* `torch.save`\tSaves a serialized object to disk using Python's pickle utility. Models, tensors and various other Python objects like dictionaries can be saved using torch.save.\n",
    "* `torch.load`\tUses pickle's unpickling features to deserialize and load pickled Python object files (like models, tensors or dictionaries) into memory. You can also set which device to load the object to (CPU, GPU etc).\n",
    "* `torch.nn.Module.load_state_dict`\tLoads a model's parameter dictionary (model.state_dict()) using a saved state_dict() object."
   ]
  },
  {
   "cell_type": "code",
   "execution_count": 28,
   "id": "ea4b2827-5255-429b-83b9-f3713f48b0e3",
   "metadata": {},
   "outputs": [],
   "source": [
    "from pathlib import Path"
   ]
  },
  {
   "cell_type": "code",
   "execution_count": 29,
   "id": "f03a5aca-cdb6-4d35-abd7-3d2073555161",
   "metadata": {},
   "outputs": [
    {
     "data": {
      "text/plain": [
       "PosixPath('models/Linear_Regression_Model.pth')"
      ]
     },
     "execution_count": 29,
     "metadata": {},
     "output_type": "execute_result"
    }
   ],
   "source": [
    "MODEL_PATH = Path(\"models\")\n",
    "MODEL_PATH.mkdir(parents = True, exist_ok=True)\n",
    "MODEL_NAME = \"Linear_Regression_Model.pth\" #PyTorch objects have usually .pt or .pth extension\n",
    "MODEL_SAVE_PATH = MODEL_PATH / MODEL_NAME\n",
    "\n",
    "MODEL_SAVE_PATH"
   ]
  },
  {
   "cell_type": "code",
   "execution_count": 30,
   "id": "b8222a95-fb01-45c9-bb94-2168e0137c7e",
   "metadata": {},
   "outputs": [
    {
     "name": "stdout",
     "output_type": "stream",
     "text": [
      "Model saved to models/Linear_Regression_Model.pth\n"
     ]
    }
   ],
   "source": [
    "print(\"Model saved to\", MODEL_SAVE_PATH)\n",
    "torch.save(obj = model_0.state_dict(), f = MODEL_SAVE_PATH)"
   ]
  },
  {
   "cell_type": "markdown",
   "id": "fcbcee79-88ce-4708-9d20-396ab12253a4",
   "metadata": {},
   "source": [
    "#### Loading a new model with state_dict of trained model"
   ]
  },
  {
   "cell_type": "code",
   "execution_count": 31,
   "id": "de1dfe5d-5cd9-4db9-b50c-51d9fc043a49",
   "metadata": {},
   "outputs": [],
   "source": [
    "new_model = LinearRegressionModel()"
   ]
  },
  {
   "cell_type": "code",
   "execution_count": 32,
   "id": "ec64f7f7-2cad-4320-8684-1532aea82a9b",
   "metadata": {},
   "outputs": [
    {
     "name": "stderr",
     "output_type": "stream",
     "text": [
      "/var/folders/vf/64r8j3px5m7_0cwl_br4gt2c0000gn/T/ipykernel_19475/125751781.py:1: FutureWarning: You are using `torch.load` with `weights_only=False` (the current default value), which uses the default pickle module implicitly. It is possible to construct malicious pickle data which will execute arbitrary code during unpickling (See https://github.com/pytorch/pytorch/blob/main/SECURITY.md#untrusted-models for more details). In a future release, the default value for `weights_only` will be flipped to `True`. This limits the functions that could be executed during unpickling. Arbitrary objects will no longer be allowed to be loaded via this mode unless they are explicitly allowlisted by the user via `torch.serialization.add_safe_globals`. We recommend you start setting `weights_only=True` for any use case where you don't have full control of the loaded file. Please open an issue on GitHub for any issues related to this experimental feature.\n",
      "  new_model.load_state_dict(torch.load(MODEL_SAVE_PATH))\n"
     ]
    },
    {
     "data": {
      "text/plain": [
       "<All keys matched successfully>"
      ]
     },
     "execution_count": 32,
     "metadata": {},
     "output_type": "execute_result"
    }
   ],
   "source": [
    "new_model.load_state_dict(torch.load(MODEL_SAVE_PATH))"
   ]
  },
  {
   "cell_type": "code",
   "execution_count": 33,
   "id": "7ebe6b1e-e4fa-4ea9-935d-46403911b255",
   "metadata": {},
   "outputs": [
    {
     "data": {
      "text/plain": [
       "LinearRegressionModel()"
      ]
     },
     "execution_count": 33,
     "metadata": {},
     "output_type": "execute_result"
    }
   ],
   "source": [
    "new_model.eval()"
   ]
  },
  {
   "cell_type": "code",
   "execution_count": 34,
   "id": "f1cbba96-37a5-447e-810c-bb083f38eab0",
   "metadata": {},
   "outputs": [
    {
     "data": {
      "text/plain": [
       "tensor([[0.8141],\n",
       "        [0.8256],\n",
       "        [0.8372],\n",
       "        [0.8488],\n",
       "        [0.8603],\n",
       "        [0.8719],\n",
       "        [0.8835],\n",
       "        [0.8950],\n",
       "        [0.9066],\n",
       "        [0.9182]])"
      ]
     },
     "execution_count": 34,
     "metadata": {},
     "output_type": "execute_result"
    }
   ],
   "source": [
    "with torch.inference_mode():\n",
    "    loaded_model_predictions = new_model(X_test)\n",
    "loaded_model_predictions"
   ]
  },
  {
   "cell_type": "code",
   "execution_count": 35,
   "id": "2bf16c87-ee3e-4aeb-93b1-8c3a1eae4972",
   "metadata": {},
   "outputs": [
    {
     "data": {
      "text/plain": [
       "tensor([[True],\n",
       "        [True],\n",
       "        [True],\n",
       "        [True],\n",
       "        [True],\n",
       "        [True],\n",
       "        [True],\n",
       "        [True],\n",
       "        [True],\n",
       "        [True]])"
      ]
     },
     "execution_count": 35,
     "metadata": {},
     "output_type": "execute_result"
    }
   ],
   "source": [
    "test_pred == loaded_model_predictions"
   ]
  },
  {
   "cell_type": "code",
   "execution_count": 36,
   "id": "da74c2e0-8fbb-4b5f-aa30-76dc13a34c70",
   "metadata": {},
   "outputs": [
    {
     "name": "stdout",
     "output_type": "stream",
     "text": [
      "Using device: mps\n"
     ]
    }
   ],
   "source": [
    "device = \"mps\" if torch.mps.is_available() else \"cpu\"\n",
    "print(f\"Using device: {device}\")"
   ]
  },
  {
   "cell_type": "code",
   "execution_count": 37,
   "id": "3ad5e14d-e389-4aed-9255-30282c2a4427",
   "metadata": {},
   "outputs": [
    {
     "data": {
      "text/plain": [
       "(LinearRegressionModelv2(\n",
       "   (linear_layer): Linear(in_features=1, out_features=1, bias=True)\n",
       " ),\n",
       " OrderedDict([('linear_layer.weight', tensor([[0.7645]])),\n",
       "              ('linear_layer.bias', tensor([0.8300]))]))"
      ]
     },
     "execution_count": 37,
     "metadata": {},
     "output_type": "execute_result"
    }
   ],
   "source": [
    "class LinearRegressionModelv2(nn.Module):\n",
    "    def __init__(self):\n",
    "        super().__init__()\n",
    "        #using nn.linear to create models, instead of defining everything\n",
    "        self.linear_layer = nn.Linear(in_features=1, out_features=1)\n",
    "    def forward(self, x: torch.Tensor) -> torch.Tensor: #-> is going to return torch.Tensor\n",
    "        return self.linear_layer(x)\n",
    "torch.manual_seed(42)\n",
    "model_1 = LinearRegressionModelv2()\n",
    "model_1, model_1.state_dict()"
   ]
  },
  {
   "cell_type": "code",
   "execution_count": 38,
   "id": "1cf26b66-fb91-4688-afcf-efbfd617394c",
   "metadata": {},
   "outputs": [
    {
     "data": {
      "text/plain": [
       "'mps'"
      ]
     },
     "execution_count": 38,
     "metadata": {},
     "output_type": "execute_result"
    }
   ],
   "source": [
    "device"
   ]
  },
  {
   "cell_type": "code",
   "execution_count": 39,
   "id": "52e7fb32-9ce4-4ee1-98f3-79532985626e",
   "metadata": {},
   "outputs": [
    {
     "data": {
      "text/plain": [
       "device(type='cpu')"
      ]
     },
     "execution_count": 39,
     "metadata": {},
     "output_type": "execute_result"
    }
   ],
   "source": [
    "next(model_1.parameters()).device"
   ]
  },
  {
   "cell_type": "code",
   "execution_count": 40,
   "id": "d32a97ba-0d04-441b-8846-42423a823362",
   "metadata": {},
   "outputs": [
    {
     "data": {
      "text/plain": [
       "LinearRegressionModelv2(\n",
       "  (linear_layer): Linear(in_features=1, out_features=1, bias=True)\n",
       ")"
      ]
     },
     "execution_count": 40,
     "metadata": {},
     "output_type": "execute_result"
    }
   ],
   "source": [
    "model_1.to(device)"
   ]
  },
  {
   "cell_type": "code",
   "execution_count": 41,
   "id": "2eef9c47-93b2-494c-8aad-aadfb82b9f80",
   "metadata": {},
   "outputs": [
    {
     "data": {
      "text/plain": [
       "device(type='mps', index=0)"
      ]
     },
     "execution_count": 41,
     "metadata": {},
     "output_type": "execute_result"
    }
   ],
   "source": [
    "next(model_1.parameters()).device"
   ]
  },
  {
   "cell_type": "markdown",
   "id": "d46425f3-45b9-4bf9-af58-64901a6dbe6f",
   "metadata": {},
   "source": [
    "### for training, loss function, optimizer, training loop, testing loop"
   ]
  },
  {
   "cell_type": "code",
   "execution_count": 42,
   "id": "2c238344-11d7-4a4a-a2fb-b4ba3e932833",
   "metadata": {},
   "outputs": [],
   "source": [
    "#setting up loss function\n",
    "loss_fn = nn.L1Loss()\n",
    "optimizer = torch.optim.SGD(lr = 0.001, params=model_1.parameters())\n"
   ]
  },
  {
   "cell_type": "code",
   "execution_count": 53,
   "id": "39ee3c86-4f08-4479-b6f1-618bbdbb1d52",
   "metadata": {},
   "outputs": [
    {
     "name": "stdout",
     "output_type": "stream",
     "text": [
      "Epoch: 0 | Loss : 0.444561630487442 | Test loss: 0.5330473184585571\n",
      "Epoch: 10 | Loss : 0.4330406188964844 | Test loss: 0.519576370716095\n",
      "Epoch: 20 | Loss : 0.4215196669101715 | Test loss: 0.506105363368988\n",
      "Epoch: 30 | Loss : 0.40999874472618103 | Test loss: 0.49263450503349304\n",
      "Epoch: 40 | Loss : 0.39847779273986816 | Test loss: 0.4791635572910309\n",
      "Epoch: 50 | Loss : 0.3869567811489105 | Test loss: 0.4656926095485687\n",
      "Epoch: 60 | Loss : 0.37543579936027527 | Test loss: 0.45222169160842896\n",
      "Epoch: 70 | Loss : 0.3639148473739624 | Test loss: 0.4387507438659668\n",
      "Epoch: 80 | Loss : 0.35239386558532715 | Test loss: 0.425279825925827\n",
      "Epoch: 90 | Loss : 0.3408729135990143 | Test loss: 0.41180887818336487\n",
      "Epoch: 100 | Loss : 0.32935193181037903 | Test loss: 0.3983379304409027\n",
      "Epoch: 110 | Loss : 0.3178309500217438 | Test loss: 0.38486701250076294\n",
      "Epoch: 120 | Loss : 0.3063099980354309 | Test loss: 0.3713960647583008\n",
      "Epoch: 130 | Loss : 0.29478904604911804 | Test loss: 0.357925146818161\n",
      "Epoch: 140 | Loss : 0.2832680642604828 | Test loss: 0.34445419907569885\n",
      "Epoch: 150 | Loss : 0.27174708247184753 | Test loss: 0.3309832513332367\n",
      "Epoch: 160 | Loss : 0.2602261006832123 | Test loss: 0.31751227378845215\n",
      "Epoch: 170 | Loss : 0.24870507419109344 | Test loss: 0.3040413558483124\n",
      "Epoch: 180 | Loss : 0.2371840924024582 | Test loss: 0.29057034850120544\n",
      "Epoch: 190 | Loss : 0.22566309571266174 | Test loss: 0.2770994305610657\n"
     ]
    }
   ],
   "source": [
    "#writing a training root\n",
    "torch.manual_seed(42)\n",
    "\n",
    "epochs = 200\n",
    "#put data on the target device (mps)\n",
    "X_train = X_train.to(device)\n",
    "y_train = y_train.to(device)\n",
    "X_test = X_test.to(device)\n",
    "y_test = y_test.to(device)\n",
    "for epoch in range(epochs):\n",
    "    model_1.train()\n",
    "    # 1. forward pass\n",
    "    y_pred = model_1(X_train)\n",
    "    \n",
    "    # 2. calculating loss\n",
    "    loss = loss_fn(y_pred, y_train)\n",
    "\n",
    "    # 3. optimizing zero gradient\n",
    "    optimizer.zero_grad()\n",
    "\n",
    "    # 4. performing back propagation\n",
    "    loss.backward()\n",
    "\n",
    "    # 5. Optimizer Step, what way should I adjust the params\n",
    "    optimizer.step()\n",
    "    model_1.eval()\n",
    "    with torch.inference_mode(): #taking only inference, no back prop, no training\n",
    "        test_pred = model_1(X_test)\n",
    "    \n",
    "        test_loss = loss_fn(test_pred, y_test)\n",
    "        if epoch %10 == 0:\n",
    "            print(f\"Epoch: {epoch} | Loss : {loss} | Test loss: {test_loss}\")"
   ]
  },
  {
   "cell_type": "code",
   "execution_count": 54,
   "id": "5d8c44bf-0289-4452-852e-5e32b4971e10",
   "metadata": {},
   "outputs": [
    {
     "data": {
      "image/png": "[encoded data removed]",
      "text/plain": [
       "<Figure size 1000x700 with 1 Axes>"
      ]
     },
     "metadata": {},
     "output_type": "display_data"
    }
   ],
   "source": [
    "#numpy runs on cpu\n",
    "plot_predictions(predictions=y_preds.cpu()) # bad example "
   ]
  },
  {
   "cell_type": "code",
   "execution_count": null,
   "id": "da58ca0c-d305-4e0e-be6a-d6bf90907456",
   "metadata": {},
   "outputs": [],
   "source": []
  }
 ],
 "metadata": {
  "kernelspec": {
   "display_name": "PyTorch",
   "language": "python",
   "name": "pytorch-env"
  },
  "language_info": {
   "codemirror_mode": {
    "name": "ipython",
    "version": 3
   },
   "file_extension": ".py",
   "mimetype": "text/x-python",
   "name": "python",
   "nbconvert_exporter": "python",
   "pygments_lexer": "ipython3",
   "version": "3.11.11"
  }
 },
 "nbformat": 4,
 "nbformat_minor": 5
}
