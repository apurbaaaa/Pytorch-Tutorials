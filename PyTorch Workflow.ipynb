{
 "cells": [
  {
   "cell_type": "code",
   "execution_count": 2,
   "id": "92a28296-cf22-4eeb-b14b-66ee796eed62",
   "metadata": {},
   "outputs": [],
   "source": [
    "import torch\n",
    "import numpy as np\n",
    "import pandas as pd\n",
    "import matplotlib.pyplot as plt\n",
    "import os\n",
    "from torch import nn"
   ]
  },
  {
   "cell_type": "code",
   "execution_count": 3,
   "id": "6440c3ba-86e5-4132-ba1b-8819868b5a35",
   "metadata": {},
   "outputs": [
    {
     "data": {
      "text/plain": [
       "'2.5.1'"
      ]
     },
     "execution_count": 3,
     "metadata": {},
     "output_type": "execute_result"
    }
   ],
   "source": [
    "torch.__version__"
   ]
  },
  {
   "cell_type": "code",
   "execution_count": 7,
   "id": "6a9bf0d4-872a-4836-aff5-f1adda426670",
   "metadata": {},
   "outputs": [
    {
     "data": {
      "text/plain": [
       "True"
      ]
     },
     "execution_count": 7,
     "metadata": {},
     "output_type": "execute_result"
    }
   ],
   "source": [
    "torch.mps.is_available()"
   ]
  },
  {
   "cell_type": "markdown",
   "id": "f6aa90f9-4ebe-47b6-ba91-9a98659b88fa",
   "metadata": {},
   "source": [
    "# Creating data using Linear Regression\n",
    "\n",
    "#### Linear Regression equation: Y = a + bx"
   ]
  },
  {
   "cell_type": "code",
   "execution_count": 8,
   "id": "fa7b1a1a-0054-4df9-801e-008b8537a7b8",
   "metadata": {},
   "outputs": [],
   "source": [
    "#creating known parameters\n",
    "weight = 0.7 #b\n",
    "bias = 0.3 #a"
   ]
  },
  {
   "cell_type": "code",
   "execution_count": 9,
   "id": "5434c6b6-a21d-457a-814d-39ce21f8a529",
   "metadata": {},
   "outputs": [],
   "source": [
    "#Creating data\n",
    "start = 0\n",
    "end = 1\n",
    "\n",
    "step = 0.02\n",
    "X = torch.arange(start, end, step)"
   ]
  },
  {
   "cell_type": "code",
   "execution_count": 12,
   "id": "93e7ff25-cc43-418b-8e5a-c569c4302e9a",
   "metadata": {},
   "outputs": [
    {
     "data": {
      "text/plain": [
       "(tensor([0.0000, 0.0200, 0.0400, 0.0600, 0.0800, 0.1000, 0.1200, 0.1400, 0.1600,\n",
       "         0.1800, 0.2000, 0.2200, 0.2400, 0.2600, 0.2800, 0.3000, 0.3200, 0.3400,\n",
       "         0.3600, 0.3800, 0.4000, 0.4200, 0.4400, 0.4600, 0.4800, 0.5000, 0.5200,\n",
       "         0.5400, 0.5600, 0.5800, 0.6000, 0.6200, 0.6400, 0.6600, 0.6800, 0.7000,\n",
       "         0.7200, 0.7400, 0.7600, 0.7800, 0.8000, 0.8200, 0.8400, 0.8600, 0.8800,\n",
       "         0.9000, 0.9200, 0.9400, 0.9600, 0.9800]),\n",
       " torch.Size([50]))"
      ]
     },
     "execution_count": 12,
     "metadata": {},
     "output_type": "execute_result"
    }
   ],
   "source": [
    "X, X.size()"
   ]
  },
  {
   "cell_type": "code",
   "execution_count": 13,
   "id": "bd80e70d-7bb5-4b46-8120-5b2dda0cb296",
   "metadata": {},
   "outputs": [],
   "source": [
    "X = X.unsqueeze(dim = 1)"
   ]
  },
  {
   "cell_type": "code",
   "execution_count": 15,
   "id": "30554f4b-7ebb-4878-9d1f-98b560135260",
   "metadata": {},
   "outputs": [
    {
     "data": {
      "text/plain": [
       "torch.Size([50, 1])"
      ]
     },
     "execution_count": 15,
     "metadata": {},
     "output_type": "execute_result"
    }
   ],
   "source": [
    "X.size()"
   ]
  },
  {
   "cell_type": "code",
   "execution_count": 17,
   "id": "cfa01788-4626-40ec-a423-97dd9888ff56",
   "metadata": {},
   "outputs": [],
   "source": [
    "Y = bias + weight * X"
   ]
  },
  {
   "cell_type": "code",
   "execution_count": 18,
   "id": "c8f056c3-e308-42e7-b1b2-3998f8dbbac9",
   "metadata": {},
   "outputs": [
    {
     "data": {
      "text/plain": [
       "tensor([[0.0000],\n",
       "        [0.0200],\n",
       "        [0.0400],\n",
       "        [0.0600],\n",
       "        [0.0800],\n",
       "        [0.1000],\n",
       "        [0.1200],\n",
       "        [0.1400],\n",
       "        [0.1600],\n",
       "        [0.1800]])"
      ]
     },
     "execution_count": 18,
     "metadata": {},
     "output_type": "execute_result"
    }
   ],
   "source": [
    "X[:10]"
   ]
  },
  {
   "cell_type": "code",
   "execution_count": 19,
   "id": "87ca333f-c8f3-4841-8347-35c40b77acea",
   "metadata": {},
   "outputs": [
    {
     "data": {
      "text/plain": [
       "tensor([[0.3000],\n",
       "        [0.3140],\n",
       "        [0.3280],\n",
       "        [0.3420],\n",
       "        [0.3560],\n",
       "        [0.3700],\n",
       "        [0.3840],\n",
       "        [0.3980],\n",
       "        [0.4120],\n",
       "        [0.4260]])"
      ]
     },
     "execution_count": 19,
     "metadata": {},
     "output_type": "execute_result"
    }
   ],
   "source": [
    "Y[:10]"
   ]
  },
  {
   "cell_type": "code",
   "execution_count": 21,
   "id": "90c176af-7dec-40ec-9aa8-97a73a47f68b",
   "metadata": {},
   "outputs": [
    {
     "data": {
      "text/plain": [
       "(50, 50)"
      ]
     },
     "execution_count": 21,
     "metadata": {},
     "output_type": "execute_result"
    }
   ],
   "source": [
    "len(X), len(Y)"
   ]
  },
  {
   "cell_type": "code",
   "execution_count": null,
   "id": "ddc984cd-73eb-44a5-a3a5-389611b27f3d",
   "metadata": {},
   "outputs": [],
   "source": [
    " "
   ]
  }
 ],
 "metadata": {
  "kernelspec": {
   "display_name": "PyTorch",
   "language": "python",
   "name": "pytorch-env"
  },
  "language_info": {
   "codemirror_mode": {
    "name": "ipython",
    "version": 3
   },
   "file_extension": ".py",
   "mimetype": "text/x-python",
   "name": "python",
   "nbconvert_exporter": "python",
   "pygments_lexer": "ipython3",
   "version": "3.11.11"
  }
 },
 "nbformat": 4,
 "nbformat_minor": 5
}
