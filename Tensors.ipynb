{
 "cells": [
  {
   "cell_type": "code",
   "execution_count": 1,
   "id": "5f91543d-b953-4674-927c-f768d84a3098",
   "metadata": {},
   "outputs": [],
   "source": [
    "import torch\n",
    "import pandas as pd\n",
    "import numpy as np\n",
    "import matplotlib.pyplot as plt"
   ]
  },
  {
   "cell_type": "code",
   "execution_count": 2,
   "id": "13676d2e-1cf1-42f0-bce8-080cc5aa5453",
   "metadata": {},
   "outputs": [],
   "source": [
    "scalar = torch.tensor(7)"
   ]
  },
  {
   "cell_type": "code",
   "execution_count": 3,
   "id": "6b964cfa-76ef-48c9-bd5f-62be18d2a509",
   "metadata": {},
   "outputs": [
    {
     "data": {
      "text/plain": [
       "tensor(7)"
      ]
     },
     "execution_count": 3,
     "metadata": {},
     "output_type": "execute_result"
    }
   ],
   "source": [
    "scalar"
   ]
  },
  {
   "cell_type": "code",
   "execution_count": 4,
   "id": "5e8140a0-efb3-4e07-b596-d7ef9fffa89e",
   "metadata": {},
   "outputs": [
    {
     "data": {
      "text/plain": [
       "7"
      ]
     },
     "execution_count": 4,
     "metadata": {},
     "output_type": "execute_result"
    }
   ],
   "source": [
    "scalar.item() #get tensor back as int"
   ]
  },
  {
   "cell_type": "code",
   "execution_count": 5,
   "id": "bab83b51-ad30-4310-9cab-028719e39b04",
   "metadata": {},
   "outputs": [],
   "source": [
    "vector = torch.tensor([7, 7])"
   ]
  },
  {
   "cell_type": "code",
   "execution_count": 6,
   "id": "676fd419-c101-41b6-b1ae-8ec9c6220acb",
   "metadata": {},
   "outputs": [
    {
     "data": {
      "text/plain": [
       "tensor([7, 7])"
      ]
     },
     "execution_count": 6,
     "metadata": {},
     "output_type": "execute_result"
    }
   ],
   "source": [
    "vector"
   ]
  },
  {
   "cell_type": "code",
   "execution_count": 7,
   "id": "70ad8b90-a1cf-4c2d-a27c-25410b44368b",
   "metadata": {},
   "outputs": [
    {
     "data": {
      "text/plain": [
       "1"
      ]
     },
     "execution_count": 7,
     "metadata": {},
     "output_type": "execute_result"
    }
   ],
   "source": [
    "vector.ndim #ndim = number of dimensions"
   ]
  },
  {
   "cell_type": "code",
   "execution_count": 8,
   "id": "751276ba-8f81-4370-8e39-4c5a8dd7a3ed",
   "metadata": {},
   "outputs": [
    {
     "data": {
      "text/plain": [
       "torch.Size([2])"
      ]
     },
     "execution_count": 8,
     "metadata": {},
     "output_type": "execute_result"
    }
   ],
   "source": [
    "vector.shape"
   ]
  },
  {
   "cell_type": "code",
   "execution_count": 9,
   "id": "7b834b3a-327b-49da-bb62-1dad91ff04f3",
   "metadata": {},
   "outputs": [],
   "source": [
    "matrix = torch.tensor([[7, 8], [9, 8]])"
   ]
  },
  {
   "cell_type": "code",
   "execution_count": 10,
   "id": "3148694f-ebce-4759-a90a-64e53c9978c0",
   "metadata": {},
   "outputs": [
    {
     "data": {
      "text/plain": [
       "tensor([[7, 8],\n",
       "        [9, 8]])"
      ]
     },
     "execution_count": 10,
     "metadata": {},
     "output_type": "execute_result"
    }
   ],
   "source": [
    "matrix"
   ]
  },
  {
   "cell_type": "code",
   "execution_count": 11,
   "id": "409690a9-2c86-454c-a6e4-473af42a0f40",
   "metadata": {},
   "outputs": [
    {
     "data": {
      "text/plain": [
       "2"
      ]
     },
     "execution_count": 11,
     "metadata": {},
     "output_type": "execute_result"
    }
   ],
   "source": [
    "matrix.ndim"
   ]
  },
  {
   "cell_type": "code",
   "execution_count": 12,
   "id": "c17dcb94-5c93-4cb3-b587-67d7e6480704",
   "metadata": {},
   "outputs": [],
   "source": [
    "TENSOR = torch.tensor([[[1, 2, 3], [2, 3, 4], [3, 4, 5]]])"
   ]
  },
  {
   "cell_type": "code",
   "execution_count": 13,
   "id": "47a4271d-4bc3-4836-8629-4c3f298c753a",
   "metadata": {},
   "outputs": [
    {
     "data": {
      "text/plain": [
       "3"
      ]
     },
     "execution_count": 13,
     "metadata": {},
     "output_type": "execute_result"
    }
   ],
   "source": [
    "TENSOR.ndim"
   ]
  },
  {
   "cell_type": "code",
   "execution_count": 14,
   "id": "a76d6569-2726-4dea-9c9a-01742692a092",
   "metadata": {},
   "outputs": [
    {
     "data": {
      "text/plain": [
       "torch.Size([1, 3, 3])"
      ]
     },
     "execution_count": 14,
     "metadata": {},
     "output_type": "execute_result"
    }
   ],
   "source": [
    "TENSOR.shape"
   ]
  },
  {
   "cell_type": "code",
   "execution_count": 15,
   "id": "79661369-c537-4b32-b321-084825d5a84f",
   "metadata": {},
   "outputs": [
    {
     "data": {
      "text/plain": [
       "tensor([[1, 2, 3],\n",
       "        [2, 3, 4],\n",
       "        [3, 4, 5]])"
      ]
     },
     "execution_count": 15,
     "metadata": {},
     "output_type": "execute_result"
    }
   ],
   "source": [
    "TENSOR[0]"
   ]
  },
  {
   "cell_type": "code",
   "execution_count": 16,
   "id": "1bc84248-a15d-4da6-9ebd-c4abe392f14d",
   "metadata": {},
   "outputs": [],
   "source": [
    "#Random Tensors, neural networks start with random tensors\n",
    "random_tensor = torch.rand(3, 4, 3)"
   ]
  },
  {
   "cell_type": "code",
   "execution_count": 17,
   "id": "3bb68a1e-0547-4840-b8c0-4ff59b25f21a",
   "metadata": {},
   "outputs": [
    {
     "data": {
      "text/plain": [
       "tensor([[[0.7088, 0.7955, 0.6303],\n",
       "         [0.8336, 0.9507, 0.1836],\n",
       "         [0.5990, 0.0382, 0.0126],\n",
       "         [0.2281, 0.7776, 0.2725]],\n",
       "\n",
       "        [[0.1566, 0.9615, 0.2055],\n",
       "         [0.5576, 0.8123, 0.8966],\n",
       "         [0.4494, 0.0288, 0.5757],\n",
       "         [0.2971, 0.4576, 0.3182]],\n",
       "\n",
       "        [[0.3390, 0.1233, 0.8966],\n",
       "         [0.6837, 0.8524, 0.2318],\n",
       "         [0.5516, 0.9991, 0.1836],\n",
       "         [0.5629, 0.3686, 0.9486]]])"
      ]
     },
     "execution_count": 17,
     "metadata": {},
     "output_type": "execute_result"
    }
   ],
   "source": [
    "random_tensor"
   ]
  },
  {
   "cell_type": "code",
   "execution_count": 18,
   "id": "32c34f80-363d-4393-9520-f6c38d5e65aa",
   "metadata": {},
   "outputs": [
    {
     "data": {
      "text/plain": [
       "3"
      ]
     },
     "execution_count": 18,
     "metadata": {},
     "output_type": "execute_result"
    }
   ],
   "source": [
    "random_tensor.ndim"
   ]
  },
  {
   "cell_type": "code",
   "execution_count": 19,
   "id": "9140746b-562b-417a-900c-027e2b41c834",
   "metadata": {},
   "outputs": [
    {
     "data": {
      "text/plain": [
       "torch.Size([3, 4, 3])"
      ]
     },
     "execution_count": 19,
     "metadata": {},
     "output_type": "execute_result"
    }
   ],
   "source": [
    "random_tensor.shape"
   ]
  },
  {
   "cell_type": "code",
   "execution_count": 20,
   "id": "712c53cf-2722-4769-9c22-32b44764ea62",
   "metadata": {},
   "outputs": [
    {
     "data": {
      "text/plain": [
       "(torch.Size([224, 224, 3]), 3)"
      ]
     },
     "execution_count": 20,
     "metadata": {},
     "output_type": "execute_result"
    }
   ],
   "source": [
    "#similar shape to an image tensor\n",
    "random_image_size_tensor = torch.rand(size = (224, 224, 3))#color channels can also come at the start, 3, 224, 224\n",
    "random_image_size_tensor.shape, random_image_size_tensor.ndim"
   ]
  },
  {
   "cell_type": "code",
   "execution_count": 21,
   "id": "52127ede-0336-4384-ae2d-2fc1289db220",
   "metadata": {},
   "outputs": [],
   "source": [
    "#tensors with zeros and ones\n",
    "zeros = torch.zeros(3, 4)"
   ]
  },
  {
   "cell_type": "code",
   "execution_count": 22,
   "id": "439597ae-7c9f-4a02-b84e-ba2a7e5b2485",
   "metadata": {},
   "outputs": [
    {
     "data": {
      "text/plain": [
       "tensor([[0., 0., 0., 0.],\n",
       "        [0., 0., 0., 0.],\n",
       "        [0., 0., 0., 0.]])"
      ]
     },
     "execution_count": 22,
     "metadata": {},
     "output_type": "execute_result"
    }
   ],
   "source": [
    "zeros"
   ]
  },
  {
   "cell_type": "code",
   "execution_count": 23,
   "id": "57814cac-929b-4856-ae70-66927cb5ae90",
   "metadata": {},
   "outputs": [
    {
     "data": {
      "text/plain": [
       "tensor([[1., 1., 1., 1.],\n",
       "        [1., 1., 1., 1.],\n",
       "        [1., 1., 1., 1.]])"
      ]
     },
     "execution_count": 23,
     "metadata": {},
     "output_type": "execute_result"
    }
   ],
   "source": [
    "ones = torch.ones(3, 4)\n",
    "ones"
   ]
  },
  {
   "cell_type": "code",
   "execution_count": 24,
   "id": "7c43a0b9-584d-4a87-a281-39e4cd272194",
   "metadata": {},
   "outputs": [
    {
     "data": {
      "text/plain": [
       "torch.float32"
      ]
     },
     "execution_count": 24,
     "metadata": {},
     "output_type": "execute_result"
    }
   ],
   "source": [
    "#default datatype is torch.float\n",
    "ones.dtype"
   ]
  },
  {
   "cell_type": "code",
   "execution_count": 25,
   "id": "1eb93953-3ddb-41eb-b2d1-2b960583acfb",
   "metadata": {},
   "outputs": [],
   "source": [
    "#creating a range of tensors and tensors-like\n",
    "#We use torch.arange, torch.range will be deprecated soon\n",
    "zero_to_nine = torch.arange(0,10)"
   ]
  },
  {
   "cell_type": "code",
   "execution_count": 26,
   "id": "6fffd3b8-5e00-4d45-9625-9bce7fb02951",
   "metadata": {},
   "outputs": [
    {
     "data": {
      "text/plain": [
       "tensor([0, 1, 2, 3, 4, 5, 6, 7, 8, 9])"
      ]
     },
     "execution_count": 26,
     "metadata": {},
     "output_type": "execute_result"
    }
   ],
   "source": [
    "zero_to_nine"
   ]
  },
  {
   "cell_type": "code",
   "execution_count": 27,
   "id": "2f28d900-b617-4cf1-b297-97b3addaa919",
   "metadata": {},
   "outputs": [],
   "source": [
    "step = torch.arange(start= 1, end = 1000, step = 99)"
   ]
  },
  {
   "cell_type": "code",
   "execution_count": 28,
   "id": "cb932819-b6c8-4d89-935a-f2b60d96df9b",
   "metadata": {},
   "outputs": [
    {
     "data": {
      "text/plain": [
       "tensor([  1, 100, 199, 298, 397, 496, 595, 694, 793, 892, 991])"
      ]
     },
     "execution_count": 28,
     "metadata": {},
     "output_type": "execute_result"
    }
   ],
   "source": [
    "step"
   ]
  },
  {
   "cell_type": "code",
   "execution_count": 29,
   "id": "d285d767-b7f8-447e-be83-e549f372edd8",
   "metadata": {},
   "outputs": [],
   "source": [
    "#creating tensors like\n",
    "#used when shape is not to be specified, and shape of some other tensor to be use\n",
    "ten_zeros = torch.zeros_like(zero_to_nine)"
   ]
  },
  {
   "cell_type": "code",
   "execution_count": 30,
   "id": "e3e87069-1857-4932-a9d6-f27b298dae55",
   "metadata": {},
   "outputs": [
    {
     "data": {
      "text/plain": [
       "tensor([0, 0, 0, 0, 0, 0, 0, 0, 0, 0])"
      ]
     },
     "execution_count": 30,
     "metadata": {},
     "output_type": "execute_result"
    }
   ],
   "source": [
    "ten_zeros"
   ]
  },
  {
   "cell_type": "markdown",
   "id": "955608b8-2e83-4bdc-92d0-92ff59d46fdf",
   "metadata": {
    "jp-MarkdownHeadingCollapsed": true
   },
   "source": [
    "### Tensor datatypes"
   ]
  },
  {
   "cell_type": "code",
   "execution_count": 31,
   "id": "b6b87a7b-a406-44a1-b93a-b6b278e4442c",
   "metadata": {},
   "outputs": [],
   "source": [
    "float_32_tensor = torch.tensor([3.0, 6.0, 9.0], dtype = None)"
   ]
  },
  {
   "cell_type": "code",
   "execution_count": 32,
   "id": "586317ff-2203-4a60-acb0-4866dcd452ad",
   "metadata": {},
   "outputs": [
    {
     "data": {
      "text/plain": [
       "tensor([3., 6., 9.])"
      ]
     },
     "execution_count": 32,
     "metadata": {},
     "output_type": "execute_result"
    }
   ],
   "source": [
    "float_32_tensor"
   ]
  },
  {
   "cell_type": "code",
   "execution_count": 33,
   "id": "7b889a8f-5728-452b-b665-397472b3ff45",
   "metadata": {},
   "outputs": [
    {
     "data": {
      "text/plain": [
       "torch.float32"
      ]
     },
     "execution_count": 33,
     "metadata": {},
     "output_type": "execute_result"
    }
   ],
   "source": [
    "#default datatype is float32, even when dtype is specified as None)\n",
    "float_32_tensor.dtype"
   ]
  },
  {
   "cell_type": "code",
   "execution_count": 34,
   "id": "92201420-507f-456e-8f4b-a89fc7be114d",
   "metadata": {},
   "outputs": [
    {
     "data": {
      "text/plain": [
       "torch.float16"
      ]
     },
     "execution_count": 34,
     "metadata": {},
     "output_type": "execute_result"
    }
   ],
   "source": [
    "#say float 16, tensor has 3 parameters\n",
    "float_16_tensor = torch.tensor([3.0, 6.0, 9.0], dtype = torch.float16, #what dtype is the tensor\n",
    "                               device = None, #What device is the tensor on\n",
    "                               requires_grad = False) #whether or not to track gradients witht this tensors operation\n",
    "float_16_tensor.dtype"
   ]
  },
  {
   "cell_type": "code",
   "execution_count": 35,
   "id": "891b591b-b9ea-48e9-b28d-00f0792fa503",
   "metadata": {},
   "outputs": [
    {
     "data": {
      "text/plain": [
       "tensor([3., 6., 9.], dtype=torch.float16)"
      ]
     },
     "execution_count": 35,
     "metadata": {},
     "output_type": "execute_result"
    }
   ],
   "source": [
    "#to change dtype\n",
    "float_16_tensor_of_32 = float_16_tensor.type(torch.float16)\n",
    "float_16_tensor_of_32"
   ]
  },
  {
   "cell_type": "code",
   "execution_count": 36,
   "id": "9157c7d2-6abb-4af4-8036-bcf0855a1633",
   "metadata": {},
   "outputs": [
    {
     "data": {
      "text/plain": [
       "tensor([ 9., 36., 81.])"
      ]
     },
     "execution_count": 36,
     "metadata": {},
     "output_type": "execute_result"
    }
   ],
   "source": [
    "float_16_tensor * float_32_tensor#works here but may result in errors when training large neural networks"
   ]
  },
  {
   "cell_type": "code",
   "execution_count": 37,
   "id": "70565251-f1d9-4caa-8354-787e92cd8cb7",
   "metadata": {},
   "outputs": [],
   "source": [
    "long_32_tensor = torch.tensor([3, 6, 9], dtype = torch.long)"
   ]
  },
  {
   "cell_type": "markdown",
   "id": "28a0547a-3d23-4101-9a02-f6c91bc78a20",
   "metadata": {
    "jp-MarkdownHeadingCollapsed": true
   },
   "source": [
    "### Getting infos from tensors"
   ]
  },
  {
   "cell_type": "code",
   "execution_count": 38,
   "id": "32a15362-1e8a-4e3c-9247-6ef06c9f7e39",
   "metadata": {},
   "outputs": [],
   "source": [
    "tensor = torch.rand(3,4)"
   ]
  },
  {
   "cell_type": "code",
   "execution_count": 39,
   "id": "b79ff068-7a8b-4301-9844-86778cf917c6",
   "metadata": {},
   "outputs": [
    {
     "data": {
      "text/plain": [
       "torch.Size([3, 4])"
      ]
     },
     "execution_count": 39,
     "metadata": {},
     "output_type": "execute_result"
    }
   ],
   "source": [
    "tensor.shape"
   ]
  },
  {
   "cell_type": "code",
   "execution_count": 40,
   "id": "260eb604-73bf-492d-b50e-7289a66ff212",
   "metadata": {},
   "outputs": [
    {
     "data": {
      "text/plain": [
       "torch.float32"
      ]
     },
     "execution_count": 40,
     "metadata": {},
     "output_type": "execute_result"
    }
   ],
   "source": [
    "tensor.dtype"
   ]
  },
  {
   "cell_type": "code",
   "execution_count": 41,
   "id": "ae8c0bef-c706-4ddd-a764-4377360eb681",
   "metadata": {},
   "outputs": [
    {
     "data": {
      "text/plain": [
       "device(type='cpu')"
      ]
     },
     "execution_count": 41,
     "metadata": {},
     "output_type": "execute_result"
    }
   ],
   "source": [
    "tensor.device #cpu is default"
   ]
  },
  {
   "cell_type": "code",
   "execution_count": 42,
   "id": "a713181c-7472-4d5c-b863-18dc30fa3ede",
   "metadata": {},
   "outputs": [
    {
     "data": {
      "text/plain": [
       "torch.Size([3, 4])"
      ]
     },
     "execution_count": 42,
     "metadata": {},
     "output_type": "execute_result"
    }
   ],
   "source": [
    "tensor.size()"
   ]
  },
  {
   "cell_type": "markdown",
   "id": "4bf49bb8-4fec-4271-874c-ad346ae66a22",
   "metadata": {
    "jp-MarkdownHeadingCollapsed": true
   },
   "source": [
    "### Tensor Operations\n",
    "\n",
    "Addition, Subtraction, Multiplication, Division, Matrix Multiplication"
   ]
  },
  {
   "cell_type": "code",
   "execution_count": 43,
   "id": "31816b97-c74f-4942-bb69-760c7f726e02",
   "metadata": {},
   "outputs": [
    {
     "data": {
      "text/plain": [
       "tensor([11, 12, 13])"
      ]
     },
     "execution_count": 43,
     "metadata": {},
     "output_type": "execute_result"
    }
   ],
   "source": [
    "tensor = torch.tensor([1, 2, 3])\n",
    "tensor = tensor + 10\n",
    "tensor"
   ]
  },
  {
   "cell_type": "code",
   "execution_count": 44,
   "id": "90301f59-5e15-43a6-a476-9bde93a09ac9",
   "metadata": {},
   "outputs": [
    {
     "data": {
      "text/plain": [
       "tensor([1, 2, 3])"
      ]
     },
     "execution_count": 44,
     "metadata": {},
     "output_type": "execute_result"
    }
   ],
   "source": [
    "tensor = tensor - 10\n",
    "tensor"
   ]
  },
  {
   "cell_type": "code",
   "execution_count": 45,
   "id": "7fb3a946-68eb-47d1-aa72-dd9d0c4d3abc",
   "metadata": {},
   "outputs": [
    {
     "data": {
      "text/plain": [
       "tensor([10, 20, 30])"
      ]
     },
     "execution_count": 45,
     "metadata": {},
     "output_type": "execute_result"
    }
   ],
   "source": [
    "tensor = tensor * 10\n",
    "tensor"
   ]
  },
  {
   "cell_type": "code",
   "execution_count": 46,
   "id": "a00ee478-207d-45fa-b834-56f6485a4cf0",
   "metadata": {},
   "outputs": [
    {
     "data": {
      "text/plain": [
       "tensor([1., 2., 3.])"
      ]
     },
     "execution_count": 46,
     "metadata": {},
     "output_type": "execute_result"
    }
   ],
   "source": [
    "tensor = tensor / 10\n",
    "tensor"
   ]
  },
  {
   "cell_type": "code",
   "execution_count": 47,
   "id": "c975b8e0-0c56-43f5-9bae-7bb2944b2e05",
   "metadata": {},
   "outputs": [
    {
     "data": {
      "text/plain": [
       "tensor([10., 20., 30.])"
      ]
     },
     "execution_count": 47,
     "metadata": {},
     "output_type": "execute_result"
    }
   ],
   "source": [
    "#inbuilt tensor arithmetic function\n",
    "torch.mul(tensor, 10)"
   ]
  },
  {
   "cell_type": "code",
   "execution_count": 48,
   "id": "7c2d0b10-ca27-4fca-a135-fd28d1121017",
   "metadata": {},
   "outputs": [
    {
     "data": {
      "text/plain": [
       "tensor([12., 13., 14.])"
      ]
     },
     "execution_count": 48,
     "metadata": {},
     "output_type": "execute_result"
    }
   ],
   "source": [
    "torch.add(tensor, 11)"
   ]
  },
  {
   "cell_type": "code",
   "execution_count": 49,
   "id": "c876b510-6b34-427d-9c94-f45f000b43be",
   "metadata": {},
   "outputs": [
    {
     "data": {
      "text/plain": [
       "tensor([0., 1., 2.])"
      ]
     },
     "execution_count": 49,
     "metadata": {},
     "output_type": "execute_result"
    }
   ],
   "source": [
    "torch.sub(tensor, 1)"
   ]
  },
  {
   "cell_type": "markdown",
   "id": "836dc746-e9ec-490f-915e-ddb0c0dcb823",
   "metadata": {},
   "source": [
    "### Matrix Multiplication\n",
    "\n",
    "Two ways to perform multiplication:\n",
    "\n",
    "* element wise multiplication\n",
    "* matrix multiplication"
   ]
  },
  {
   "cell_type": "code",
   "execution_count": 50,
   "id": "1966dacf-138d-4b4f-9693-e32dc7208c2e",
   "metadata": {},
   "outputs": [
    {
     "data": {
      "text/plain": [
       "tensor([1, 2, 3])"
      ]
     },
     "execution_count": 50,
     "metadata": {},
     "output_type": "execute_result"
    }
   ],
   "source": [
    "torch.tensor([1, 2, 3])"
   ]
  },
  {
   "cell_type": "code",
   "execution_count": 51,
   "id": "89d5f603-f4a2-4b55-8a50-37af3bb34b1c",
   "metadata": {},
   "outputs": [
    {
     "data": {
      "text/plain": [
       "tensor([1., 4., 9.])"
      ]
     },
     "execution_count": 51,
     "metadata": {},
     "output_type": "execute_result"
    }
   ],
   "source": [
    "#element wise\n",
    "tensor * tensor"
   ]
  },
  {
   "cell_type": "code",
   "execution_count": 52,
   "id": "6a76402e-46c4-4f2a-8753-134dc4eed6ac",
   "metadata": {},
   "outputs": [
    {
     "data": {
      "text/plain": [
       "tensor(14.)"
      ]
     },
     "execution_count": 52,
     "metadata": {},
     "output_type": "execute_result"
    }
   ],
   "source": [
    "#matrix multiplication\n",
    "torch.matmul(tensor, tensor)"
   ]
  },
  {
   "cell_type": "code",
   "execution_count": 53,
   "id": "11f846ff-1e6f-40ab-9950-0e9c8c6182db",
   "metadata": {},
   "outputs": [
    {
     "name": "stdout",
     "output_type": "stream",
     "text": [
      "Sum of squares: tensor(14.)\n",
      "Execution time: 0.000993967056274414 seconds\n"
     ]
    }
   ],
   "source": [
    "#manually using a for loop (not recommended\n",
    "import time\n",
    "start_time = time.time()\n",
    "\n",
    "value = 0\n",
    "for i in range(len(tensor)):\n",
    "    value += tensor[i] * tensor[i]\n",
    "\n",
    "end_time = time.time()\n",
    "\n",
    "print(\"Sum of squares:\", value)\n",
    "print(\"Execution time:\", end_time - start_time, \"seconds\")"
   ]
  },
  {
   "cell_type": "code",
   "execution_count": 54,
   "id": "f5c4f8e8-b20a-4c10-9ebb-b06b25a4fc43",
   "metadata": {},
   "outputs": [
    {
     "name": "stdout",
     "output_type": "stream",
     "text": [
      "tensor(14.) \n",
      "\n"
     ]
    },
    {
     "data": {
      "text/plain": [
       "0.0005679130554199219"
      ]
     },
     "execution_count": 54,
     "metadata": {},
     "output_type": "execute_result"
    }
   ],
   "source": [
    "start_time = time.time()\n",
    "\n",
    "print(torch.matmul(tensor, tensor), '\\n')\n",
    "end_time = time.time()\n",
    "\n",
    "end_time - start_time"
   ]
  },
  {
   "cell_type": "markdown",
   "id": "9ef92ef8-982f-4268-ba55-2a9cea2432d3",
   "metadata": {},
   "source": [
    "Rules for matrix multiplication\n",
    "\n",
    "* Inner dimensions must match, meaning a * b and b * c will work but, a * b and c * d wont work\n",
    "* Resulting matrix has shape of the outer dimensions"
   ]
  },
  {
   "cell_type": "code",
   "execution_count": 55,
   "id": "26876396-afbe-44b9-8727-72a9a27f5247",
   "metadata": {},
   "outputs": [
    {
     "data": {
      "text/plain": [
       "tensor([[2.3173, 2.5536, 1.5443, 1.6251, 2.6937, 1.8648, 1.8332, 2.7440, 1.5512,\n",
       "         1.7296],\n",
       "        [2.8157, 2.2748, 2.0355, 1.0509, 2.5871, 1.8079, 1.9256, 2.6608, 2.0272,\n",
       "         2.4350],\n",
       "        [1.6757, 1.8097, 1.2745, 1.2800, 1.8436, 1.8838, 1.1084, 1.8943, 1.2345,\n",
       "         1.6992]])"
      ]
     },
     "execution_count": 55,
     "metadata": {},
     "output_type": "execute_result"
    }
   ],
   "source": [
    "torch.matmul(torch.rand(3, 7) , torch.rand(7, 10))"
   ]
  },
  {
   "cell_type": "markdown",
   "id": "27169ae6-89ef-4e86-b655-531c000f75b7",
   "metadata": {},
   "source": [
    "Dealing with shape errors"
   ]
  },
  {
   "cell_type": "code",
   "execution_count": 56,
   "id": "112cc49c-e531-46af-80b0-eb77b7189ef3",
   "metadata": {},
   "outputs": [],
   "source": [
    "tensor_A = torch.tensor([[1, 2], [3, 4], [4, 5]])\n",
    "tensor_B = torch.tensor([[7, 10], [8, 11], [9, 12]])\n",
    "#torch.mm is the same as torch.matmul\n",
    "# torch.mm(tensor_A, tensor_B), shape error"
   ]
  },
  {
   "cell_type": "code",
   "execution_count": 57,
   "id": "0a5d420e-3313-4900-abbe-e8b2b45bc1dc",
   "metadata": {},
   "outputs": [
    {
     "data": {
      "text/plain": [
       "torch.Size([3, 2])"
      ]
     },
     "execution_count": 57,
     "metadata": {},
     "output_type": "execute_result"
    }
   ],
   "source": [
    "tensor_A.shape"
   ]
  },
  {
   "cell_type": "code",
   "execution_count": 58,
   "id": "564c74f0-10ac-403b-bbaa-9b1441beda85",
   "metadata": {},
   "outputs": [
    {
     "data": {
      "text/plain": [
       "torch.Size([3, 2])"
      ]
     },
     "execution_count": 58,
     "metadata": {},
     "output_type": "execute_result"
    }
   ],
   "source": [
    "tensor_B.shape"
   ]
  },
  {
   "cell_type": "code",
   "execution_count": 59,
   "id": "e4c566d9-0e74-45eb-970c-a83c39e430e9",
   "metadata": {},
   "outputs": [
    {
     "data": {
      "text/plain": [
       "torch.Size([2, 3])"
      ]
     },
     "execution_count": 59,
     "metadata": {},
     "output_type": "execute_result"
    }
   ],
   "source": [
    "tensor_B.T.shape"
   ]
  },
  {
   "cell_type": "code",
   "execution_count": 60,
   "id": "5e85b42d-15e2-4605-987a-e98579d6e5f0",
   "metadata": {},
   "outputs": [
    {
     "data": {
      "text/plain": [
       "tensor([[ 7,  8,  9],\n",
       "        [10, 11, 12]])"
      ]
     },
     "execution_count": 60,
     "metadata": {},
     "output_type": "execute_result"
    }
   ],
   "source": [
    "tensor_B.T"
   ]
  },
  {
   "cell_type": "code",
   "execution_count": 61,
   "id": "a5f2f242-d0f6-482a-9dd0-57151803f737",
   "metadata": {},
   "outputs": [
    {
     "data": {
      "text/plain": [
       "tensor([[27, 30, 33],\n",
       "        [61, 68, 75],\n",
       "        [78, 87, 96]])"
      ]
     },
     "execution_count": 61,
     "metadata": {},
     "output_type": "execute_result"
    }
   ],
   "source": [
    "torch.mm(tensor_A, tensor_B.T) #works"
   ]
  },
  {
   "cell_type": "code",
   "execution_count": 62,
   "id": "f0f0a2f7-3ac3-4dfd-a3ac-d0e953ba6f99",
   "metadata": {},
   "outputs": [
    {
     "data": {
      "text/plain": [
       "torch.Size([3, 3])"
      ]
     },
     "execution_count": 62,
     "metadata": {},
     "output_type": "execute_result"
    }
   ],
   "source": [
    "torch.mm(tensor_A, tensor_B.T).shape"
   ]
  },
  {
   "cell_type": "markdown",
   "id": "f9a3f4ed-a883-422c-9ec1-d40bbb0ba884",
   "metadata": {},
   "source": [
    "### Tensor aggregation"
   ]
  },
  {
   "cell_type": "code",
   "execution_count": 63,
   "id": "6b42a016-d51e-4790-a906-15c664ae8a4b",
   "metadata": {},
   "outputs": [],
   "source": [
    "x = torch.arange(0, 100, 10) "
   ]
  },
  {
   "cell_type": "code",
   "execution_count": 64,
   "id": "f04f1ac6-53f1-4fe1-abe3-0c216c3752e8",
   "metadata": {},
   "outputs": [
    {
     "data": {
      "text/plain": [
       "tensor([ 0, 10, 20, 30, 40, 50, 60, 70, 80, 90])"
      ]
     },
     "execution_count": 64,
     "metadata": {},
     "output_type": "execute_result"
    }
   ],
   "source": [
    "x"
   ]
  },
  {
   "cell_type": "code",
   "execution_count": 65,
   "id": "db630a44-1e03-419f-b41c-a03619e98fea",
   "metadata": {},
   "outputs": [
    {
     "data": {
      "text/plain": [
       "(tensor(0), tensor(0))"
      ]
     },
     "execution_count": 65,
     "metadata": {},
     "output_type": "execute_result"
    }
   ],
   "source": [
    "torch.min(x), x.min()"
   ]
  },
  {
   "cell_type": "code",
   "execution_count": 66,
   "id": "3d9161e2-7dca-4b7f-88c5-10bc4579390c",
   "metadata": {},
   "outputs": [
    {
     "data": {
      "text/plain": [
       "(tensor(90), tensor(90))"
      ]
     },
     "execution_count": 66,
     "metadata": {},
     "output_type": "execute_result"
    }
   ],
   "source": [
    "torch.max(x), x.max()"
   ]
  },
  {
   "cell_type": "code",
   "execution_count": 67,
   "id": "cfa6a3b6-7fdc-48ad-80e1-9a5e59805400",
   "metadata": {},
   "outputs": [
    {
     "data": {
      "text/plain": [
       "torch.int64"
      ]
     },
     "execution_count": 67,
     "metadata": {},
     "output_type": "execute_result"
    }
   ],
   "source": [
    "#torch.mean(x) #not the right datatype error\n",
    "#because\n",
    "x.dtype #int 64 which is long"
   ]
  },
  {
   "cell_type": "code",
   "execution_count": 68,
   "id": "de0712dc-6f98-4a83-8e3e-3e10d5ec87f7",
   "metadata": {},
   "outputs": [
    {
     "data": {
      "text/plain": [
       "tensor(45.)"
      ]
     },
     "execution_count": 68,
     "metadata": {},
     "output_type": "execute_result"
    }
   ],
   "source": [
    "torch.mean(x.type(torch.float32)) "
   ]
  },
  {
   "cell_type": "code",
   "execution_count": 69,
   "id": "97a83401-b79b-401c-83e1-f9719c04e123",
   "metadata": {},
   "outputs": [
    {
     "data": {
      "text/plain": [
       "tensor(45.)"
      ]
     },
     "execution_count": 69,
     "metadata": {},
     "output_type": "execute_result"
    }
   ],
   "source": [
    "x.type(torch.float32).mean()"
   ]
  },
  {
   "cell_type": "markdown",
   "id": "77f45375-9436-4d59-bd41-005bbc3a0018",
   "metadata": {},
   "source": [
    "torch.mean() funtion requires a tensor of float32 dtype to work"
   ]
  },
  {
   "cell_type": "code",
   "execution_count": 70,
   "id": "796cd647-047c-4958-a7d2-08c925e7bcfa",
   "metadata": {},
   "outputs": [
    {
     "data": {
      "text/plain": [
       "(tensor(450), tensor(450))"
      ]
     },
     "execution_count": 70,
     "metadata": {},
     "output_type": "execute_result"
    }
   ],
   "source": [
    "torch.sum(x), x.sum()"
   ]
  },
  {
   "cell_type": "markdown",
   "id": "f9f7559c-f68d-447d-bd25-d1461306a73f",
   "metadata": {},
   "source": [
    "Positions of min and max"
   ]
  },
  {
   "cell_type": "code",
   "execution_count": 71,
   "id": "2a08dbc1-566e-43f7-931e-5f6f580768f1",
   "metadata": {},
   "outputs": [
    {
     "data": {
      "text/plain": [
       "tensor(9)"
      ]
     },
     "execution_count": 71,
     "metadata": {},
     "output_type": "execute_result"
    }
   ],
   "source": [
    "torch.argmax(x)"
   ]
  },
  {
   "cell_type": "code",
   "execution_count": 72,
   "id": "40a6959d-2f85-4eac-aeed-8c77a755fb20",
   "metadata": {},
   "outputs": [
    {
     "data": {
      "text/plain": [
       "tensor(0)"
      ]
     },
     "execution_count": 72,
     "metadata": {},
     "output_type": "execute_result"
    }
   ],
   "source": [
    "torch.argmin(x)"
   ]
  },
  {
   "cell_type": "code",
   "execution_count": 73,
   "id": "50830443-b47e-4d3b-9be3-9ab6e88c4fc1",
   "metadata": {},
   "outputs": [
    {
     "data": {
      "text/plain": [
       "tensor(9)"
      ]
     },
     "execution_count": 73,
     "metadata": {},
     "output_type": "execute_result"
    }
   ],
   "source": [
    "x.argmax()"
   ]
  },
  {
   "cell_type": "code",
   "execution_count": 74,
   "id": "397e5132-3d2a-44e3-afd0-d1f629d1e95c",
   "metadata": {},
   "outputs": [
    {
     "data": {
      "text/plain": [
       "tensor(0)"
      ]
     },
     "execution_count": 74,
     "metadata": {},
     "output_type": "execute_result"
    }
   ],
   "source": [
    "x.argmin()"
   ]
  },
  {
   "cell_type": "markdown",
   "id": "e7da62ea-2d1e-4922-bab9-1c302ab2986f",
   "metadata": {},
   "source": [
    "### Reshaping, stacking, squeezing, unsqueexing\n",
    "\n",
    "* Reshaping - reshapes input tensort to a defined shape\n",
    "* View - Return a view of the input of a certain shape but keep the memory of the original tensor\n",
    "* Stacking - combine multiple tensors on top of each other, vstack- vertical stack, hstack, horizontal stack\n",
    "* Squeeze - remove all `1` dimensions from a tensor\n",
    "* Unsqueeze - adda a `1` dimension to a target tensor\n",
    "* Permut - Return a view of the input with the dimensions permuted in a certain way"
   ]
  },
  {
   "cell_type": "code",
   "execution_count": 79,
   "id": "c8d8474a-e7f0-4d42-9e4f-7cf9da4a98b1",
   "metadata": {},
   "outputs": [
    {
     "data": {
      "text/plain": [
       "(tensor([ 1.,  2.,  3.,  4.,  5.,  6.,  7.,  8.,  9., 10.]), torch.Size([10]))"
      ]
     },
     "execution_count": 79,
     "metadata": {},
     "output_type": "execute_result"
    }
   ],
   "source": [
    "x = torch.arange(1., 11.)\n",
    "x, x.shape"
   ]
  },
  {
   "cell_type": "code",
   "execution_count": 81,
   "id": "2358b4e8-197a-4c51-b75e-c366720441fe",
   "metadata": {},
   "outputs": [
    {
     "data": {
      "text/plain": [
       "(tensor([[ 1.],\n",
       "         [ 2.],\n",
       "         [ 3.],\n",
       "         [ 4.],\n",
       "         [ 5.],\n",
       "         [ 6.],\n",
       "         [ 7.],\n",
       "         [ 8.],\n",
       "         [ 9.],\n",
       "         [10.]]),\n",
       " torch.Size([10, 1]))"
      ]
     },
     "execution_count": 81,
     "metadata": {},
     "output_type": "execute_result"
    }
   ],
   "source": [
    "x_reshaped = x.reshape(10,1)\n",
    "x_reshaped, x_reshaped.shape"
   ]
  },
  {
   "cell_type": "code",
   "execution_count": 82,
   "id": "668bedfd-e524-469d-bf51-0f707c9f7807",
   "metadata": {},
   "outputs": [
    {
     "data": {
      "text/plain": [
       "(tensor([[ 1.,  2.,  3.,  4.,  5.],\n",
       "         [ 6.,  7.,  8.,  9., 10.]]),\n",
       " torch.Size([2, 5]))"
      ]
     },
     "execution_count": 82,
     "metadata": {},
     "output_type": "execute_result"
    }
   ],
   "source": [
    "x_reshaped = x.reshape(2, 5)\n",
    "x_reshaped, x_reshaped.shape"
   ]
  },
  {
   "cell_type": "code",
   "execution_count": null,
   "id": "1392639b-669b-4a71-b4dc-5d9993e8d72b",
   "metadata": {},
   "outputs": [],
   "source": []
  }
 ],
 "metadata": {
  "kernelspec": {
   "display_name": "PyTorch",
   "language": "python",
   "name": "pytorch-env"
  },
  "language_info": {
   "codemirror_mode": {
    "name": "ipython",
    "version": 3
   },
   "file_extension": ".py",
   "mimetype": "text/x-python",
   "name": "python",
   "nbconvert_exporter": "python",
   "pygments_lexer": "ipython3",
   "version": "3.11.11"
  }
 },
 "nbformat": 4,
 "nbformat_minor": 5
}
