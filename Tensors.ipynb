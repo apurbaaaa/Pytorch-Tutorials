{
 "cells": [
  {
   "cell_type": "code",
   "execution_count": 1,
   "id": "5f91543d-b953-4674-927c-f768d84a3098",
   "metadata": {},
   "outputs": [],
   "source": [
    "import torch\n",
    "import pandas as pd\n",
    "import numpy as np\n",
    "import matplotlib.pyplot as plt"
   ]
  },
  {
   "cell_type": "code",
   "execution_count": 2,
   "id": "13676d2e-1cf1-42f0-bce8-080cc5aa5453",
   "metadata": {},
   "outputs": [],
   "source": [
    "scalar = torch.tensor(7)"
   ]
  },
  {
   "cell_type": "code",
   "execution_count": 3,
   "id": "6b964cfa-76ef-48c9-bd5f-62be18d2a509",
   "metadata": {},
   "outputs": [
    {
     "data": {
      "text/plain": [
       "tensor(7)"
      ]
     },
     "execution_count": 3,
     "metadata": {},
     "output_type": "execute_result"
    }
   ],
   "source": [
    "scalar"
   ]
  },
  {
   "cell_type": "code",
   "execution_count": 5,
   "id": "5e8140a0-efb3-4e07-b596-d7ef9fffa89e",
   "metadata": {},
   "outputs": [
    {
     "data": {
      "text/plain": [
       "7"
      ]
     },
     "execution_count": 5,
     "metadata": {},
     "output_type": "execute_result"
    }
   ],
   "source": [
    "scalar.item() #get tensor back as int"
   ]
  },
  {
   "cell_type": "code",
   "execution_count": 7,
   "id": "bab83b51-ad30-4310-9cab-028719e39b04",
   "metadata": {},
   "outputs": [],
   "source": [
    "vector = torch.tensor([7, 7])"
   ]
  },
  {
   "cell_type": "code",
   "execution_count": 8,
   "id": "676fd419-c101-41b6-b1ae-8ec9c6220acb",
   "metadata": {},
   "outputs": [
    {
     "data": {
      "text/plain": [
       "tensor([7, 7])"
      ]
     },
     "execution_count": 8,
     "metadata": {},
     "output_type": "execute_result"
    }
   ],
   "source": [
    "vector"
   ]
  },
  {
   "cell_type": "code",
   "execution_count": 10,
   "id": "70ad8b90-a1cf-4c2d-a27c-25410b44368b",
   "metadata": {},
   "outputs": [
    {
     "data": {
      "text/plain": [
       "1"
      ]
     },
     "execution_count": 10,
     "metadata": {},
     "output_type": "execute_result"
    }
   ],
   "source": [
    "vector.ndim #ndim = number of dimensions"
   ]
  },
  {
   "cell_type": "code",
   "execution_count": 11,
   "id": "751276ba-8f81-4370-8e39-4c5a8dd7a3ed",
   "metadata": {},
   "outputs": [
    {
     "data": {
      "text/plain": [
       "torch.Size([2])"
      ]
     },
     "execution_count": 11,
     "metadata": {},
     "output_type": "execute_result"
    }
   ],
   "source": [
    "vector.shape"
   ]
  },
  {
   "cell_type": "code",
   "execution_count": 12,
   "id": "7b834b3a-327b-49da-bb62-1dad91ff04f3",
   "metadata": {},
   "outputs": [],
   "source": [
    "matrix = torch.tensor([[7, 8], [9, 8]])"
   ]
  },
  {
   "cell_type": "code",
   "execution_count": 13,
   "id": "3148694f-ebce-4759-a90a-64e53c9978c0",
   "metadata": {},
   "outputs": [
    {
     "data": {
      "text/plain": [
       "tensor([[7, 8],\n",
       "        [9, 8]])"
      ]
     },
     "execution_count": 13,
     "metadata": {},
     "output_type": "execute_result"
    }
   ],
   "source": [
    "matrix"
   ]
  },
  {
   "cell_type": "code",
   "execution_count": 14,
   "id": "409690a9-2c86-454c-a6e4-473af42a0f40",
   "metadata": {},
   "outputs": [
    {
     "data": {
      "text/plain": [
       "2"
      ]
     },
     "execution_count": 14,
     "metadata": {},
     "output_type": "execute_result"
    }
   ],
   "source": [
    "matrix.ndim"
   ]
  },
  {
   "cell_type": "code",
   "execution_count": null,
   "id": "c17dcb94-5c93-4cb3-b587-67d7e6480704",
   "metadata": {},
   "outputs": [],
   "source": []
  }
 ],
 "metadata": {
  "kernelspec": {
   "display_name": "PyTorch",
   "language": "python",
   "name": "pytorch-env"
  },
  "language_info": {
   "codemirror_mode": {
    "name": "ipython",
    "version": 3
   },
   "file_extension": ".py",
   "mimetype": "text/x-python",
   "name": "python",
   "nbconvert_exporter": "python",
   "pygments_lexer": "ipython3",
   "version": "3.11.11"
  }
 },
 "nbformat": 4,
 "nbformat_minor": 5
}
