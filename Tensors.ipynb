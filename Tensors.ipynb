{
 "cells": [
  {
   "cell_type": "code",
   "execution_count": 1,
   "id": "5f91543d-b953-4674-927c-f768d84a3098",
   "metadata": {},
   "outputs": [],
   "source": [
    "import torch\n",
    "import pandas as pd\n",
    "import numpy as np\n",
    "import matplotlib.pyplot as plt"
   ]
  },
  {
   "cell_type": "code",
   "execution_count": 2,
   "id": "13676d2e-1cf1-42f0-bce8-080cc5aa5453",
   "metadata": {},
   "outputs": [],
   "source": [
    "scalar = torch.tensor(7)"
   ]
  },
  {
   "cell_type": "code",
   "execution_count": 3,
   "id": "6b964cfa-76ef-48c9-bd5f-62be18d2a509",
   "metadata": {},
   "outputs": [
    {
     "data": {
      "text/plain": [
       "tensor(7)"
      ]
     },
     "execution_count": 3,
     "metadata": {},
     "output_type": "execute_result"
    }
   ],
   "source": [
    "scalar"
   ]
  },
  {
   "cell_type": "code",
   "execution_count": 4,
   "id": "5e8140a0-efb3-4e07-b596-d7ef9fffa89e",
   "metadata": {},
   "outputs": [
    {
     "data": {
      "text/plain": [
       "7"
      ]
     },
     "execution_count": 4,
     "metadata": {},
     "output_type": "execute_result"
    }
   ],
   "source": [
    "scalar.item() #get tensor back as int"
   ]
  },
  {
   "cell_type": "code",
   "execution_count": 5,
   "id": "bab83b51-ad30-4310-9cab-028719e39b04",
   "metadata": {},
   "outputs": [],
   "source": [
    "vector = torch.tensor([7, 7])"
   ]
  },
  {
   "cell_type": "code",
   "execution_count": 6,
   "id": "676fd419-c101-41b6-b1ae-8ec9c6220acb",
   "metadata": {},
   "outputs": [
    {
     "data": {
      "text/plain": [
       "tensor([7, 7])"
      ]
     },
     "execution_count": 6,
     "metadata": {},
     "output_type": "execute_result"
    }
   ],
   "source": [
    "vector"
   ]
  },
  {
   "cell_type": "code",
   "execution_count": 7,
   "id": "70ad8b90-a1cf-4c2d-a27c-25410b44368b",
   "metadata": {},
   "outputs": [
    {
     "data": {
      "text/plain": [
       "1"
      ]
     },
     "execution_count": 7,
     "metadata": {},
     "output_type": "execute_result"
    }
   ],
   "source": [
    "vector.ndim #ndim = number of dimensions"
   ]
  },
  {
   "cell_type": "code",
   "execution_count": 8,
   "id": "751276ba-8f81-4370-8e39-4c5a8dd7a3ed",
   "metadata": {},
   "outputs": [
    {
     "data": {
      "text/plain": [
       "torch.Size([2])"
      ]
     },
     "execution_count": 8,
     "metadata": {},
     "output_type": "execute_result"
    }
   ],
   "source": [
    "vector.shape"
   ]
  },
  {
   "cell_type": "code",
   "execution_count": 9,
   "id": "7b834b3a-327b-49da-bb62-1dad91ff04f3",
   "metadata": {},
   "outputs": [],
   "source": [
    "matrix = torch.tensor([[7, 8], [9, 8]])"
   ]
  },
  {
   "cell_type": "code",
   "execution_count": 10,
   "id": "3148694f-ebce-4759-a90a-64e53c9978c0",
   "metadata": {},
   "outputs": [
    {
     "data": {
      "text/plain": [
       "tensor([[7, 8],\n",
       "        [9, 8]])"
      ]
     },
     "execution_count": 10,
     "metadata": {},
     "output_type": "execute_result"
    }
   ],
   "source": [
    "matrix"
   ]
  },
  {
   "cell_type": "code",
   "execution_count": 11,
   "id": "409690a9-2c86-454c-a6e4-473af42a0f40",
   "metadata": {},
   "outputs": [
    {
     "data": {
      "text/plain": [
       "2"
      ]
     },
     "execution_count": 11,
     "metadata": {},
     "output_type": "execute_result"
    }
   ],
   "source": [
    "matrix.ndim"
   ]
  },
  {
   "cell_type": "code",
   "execution_count": 12,
   "id": "c17dcb94-5c93-4cb3-b587-67d7e6480704",
   "metadata": {},
   "outputs": [],
   "source": [
    "TENSOR = torch.tensor([[[1, 2, 3], [2, 3, 4], [3, 4, 5]]])"
   ]
  },
  {
   "cell_type": "code",
   "execution_count": 13,
   "id": "47a4271d-4bc3-4836-8629-4c3f298c753a",
   "metadata": {},
   "outputs": [
    {
     "data": {
      "text/plain": [
       "3"
      ]
     },
     "execution_count": 13,
     "metadata": {},
     "output_type": "execute_result"
    }
   ],
   "source": [
    "TENSOR.ndim"
   ]
  },
  {
   "cell_type": "code",
   "execution_count": 14,
   "id": "a76d6569-2726-4dea-9c9a-01742692a092",
   "metadata": {},
   "outputs": [
    {
     "data": {
      "text/plain": [
       "torch.Size([1, 3, 3])"
      ]
     },
     "execution_count": 14,
     "metadata": {},
     "output_type": "execute_result"
    }
   ],
   "source": [
    "TENSOR.shape"
   ]
  },
  {
   "cell_type": "code",
   "execution_count": 15,
   "id": "79661369-c537-4b32-b321-084825d5a84f",
   "metadata": {},
   "outputs": [
    {
     "data": {
      "text/plain": [
       "tensor([[1, 2, 3],\n",
       "        [2, 3, 4],\n",
       "        [3, 4, 5]])"
      ]
     },
     "execution_count": 15,
     "metadata": {},
     "output_type": "execute_result"
    }
   ],
   "source": [
    "TENSOR[0]"
   ]
  },
  {
   "cell_type": "code",
   "execution_count": 24,
   "id": "1bc84248-a15d-4da6-9ebd-c4abe392f14d",
   "metadata": {},
   "outputs": [],
   "source": [
    "#Random Tensors, neural networks start with random tensors\n",
    "random_tensor = torch.rand(3, 4, 3)"
   ]
  },
  {
   "cell_type": "code",
   "execution_count": 25,
   "id": "3bb68a1e-0547-4840-b8c0-4ff59b25f21a",
   "metadata": {},
   "outputs": [
    {
     "data": {
      "text/plain": [
       "tensor([[[0.1044, 0.4510, 0.0768],\n",
       "         [0.7619, 0.7740, 0.0318],\n",
       "         [0.9799, 0.1300, 0.2736],\n",
       "         [0.3777, 0.6345, 0.2300]],\n",
       "\n",
       "        [[0.2899, 0.4584, 0.9897],\n",
       "         [0.2356, 0.9619, 0.0674],\n",
       "         [0.6189, 0.8886, 0.4979],\n",
       "         [0.9501, 0.5918, 0.8377]],\n",
       "\n",
       "        [[0.4251, 0.7345, 0.8247],\n",
       "         [0.6250, 0.4999, 0.7103],\n",
       "         [0.1572, 0.8660, 0.8820],\n",
       "         [0.5314, 0.4778, 0.2028]]])"
      ]
     },
     "execution_count": 25,
     "metadata": {},
     "output_type": "execute_result"
    }
   ],
   "source": [
    "random_tensor"
   ]
  },
  {
   "cell_type": "code",
   "execution_count": 26,
   "id": "32c34f80-363d-4393-9520-f6c38d5e65aa",
   "metadata": {},
   "outputs": [
    {
     "data": {
      "text/plain": [
       "3"
      ]
     },
     "execution_count": 26,
     "metadata": {},
     "output_type": "execute_result"
    }
   ],
   "source": [
    "random_tensor.ndim"
   ]
  },
  {
   "cell_type": "code",
   "execution_count": 27,
   "id": "9140746b-562b-417a-900c-027e2b41c834",
   "metadata": {},
   "outputs": [
    {
     "data": {
      "text/plain": [
       "torch.Size([3, 4, 3])"
      ]
     },
     "execution_count": 27,
     "metadata": {},
     "output_type": "execute_result"
    }
   ],
   "source": [
    "random_tensor.shape"
   ]
  },
  {
   "cell_type": "code",
   "execution_count": 28,
   "id": "712c53cf-2722-4769-9c22-32b44764ea62",
   "metadata": {},
   "outputs": [
    {
     "data": {
      "text/plain": [
       "(torch.Size([224, 224, 3]), 3)"
      ]
     },
     "execution_count": 28,
     "metadata": {},
     "output_type": "execute_result"
    }
   ],
   "source": [
    "#similar shape to an image tensor\n",
    "random_image_size_tensor = torch.rand(size = (224, 224, 3))#color channels can also come at the start, 3, 224, 224\n",
    "random_image_size_tensor.shape, random_image_size_tensor.ndim"
   ]
  },
  {
   "cell_type": "code",
   "execution_count": 30,
   "id": "52127ede-0336-4384-ae2d-2fc1289db220",
   "metadata": {},
   "outputs": [],
   "source": [
    "#tensors with zeros and ones\n",
    "zeros = torch.zeros(3, 4)"
   ]
  },
  {
   "cell_type": "code",
   "execution_count": 31,
   "id": "439597ae-7c9f-4a02-b84e-ba2a7e5b2485",
   "metadata": {},
   "outputs": [
    {
     "data": {
      "text/plain": [
       "tensor([[0., 0., 0., 0.],\n",
       "        [0., 0., 0., 0.],\n",
       "        [0., 0., 0., 0.]])"
      ]
     },
     "execution_count": 31,
     "metadata": {},
     "output_type": "execute_result"
    }
   ],
   "source": [
    "zeros"
   ]
  },
  {
   "cell_type": "code",
   "execution_count": 32,
   "id": "57814cac-929b-4856-ae70-66927cb5ae90",
   "metadata": {},
   "outputs": [
    {
     "data": {
      "text/plain": [
       "tensor([[1., 1., 1., 1.],\n",
       "        [1., 1., 1., 1.],\n",
       "        [1., 1., 1., 1.]])"
      ]
     },
     "execution_count": 32,
     "metadata": {},
     "output_type": "execute_result"
    }
   ],
   "source": [
    "ones = torch.ones(3, 4)\n",
    "ones"
   ]
  },
  {
   "cell_type": "code",
   "execution_count": 34,
   "id": "7c43a0b9-584d-4a87-a281-39e4cd272194",
   "metadata": {},
   "outputs": [
    {
     "data": {
      "text/plain": [
       "torch.float32"
      ]
     },
     "execution_count": 34,
     "metadata": {},
     "output_type": "execute_result"
    }
   ],
   "source": [
    "#default datatype is torch.float\n",
    "ones.dtype"
   ]
  },
  {
   "cell_type": "code",
   "execution_count": 38,
   "id": "1eb93953-3ddb-41eb-b2d1-2b960583acfb",
   "metadata": {},
   "outputs": [],
   "source": [
    "#creating a range of tensors and tensors-like\n",
    "#We use torch.arange, torch.range will be deprecated soon\n",
    "zero_to_nine = torch.arange(0,10)"
   ]
  },
  {
   "cell_type": "code",
   "execution_count": 39,
   "id": "6fffd3b8-5e00-4d45-9625-9bce7fb02951",
   "metadata": {},
   "outputs": [
    {
     "data": {
      "text/plain": [
       "tensor([0, 1, 2, 3, 4, 5, 6, 7, 8, 9])"
      ]
     },
     "execution_count": 39,
     "metadata": {},
     "output_type": "execute_result"
    }
   ],
   "source": [
    "zero_to_nine"
   ]
  },
  {
   "cell_type": "code",
   "execution_count": 40,
   "id": "2f28d900-b617-4cf1-b297-97b3addaa919",
   "metadata": {},
   "outputs": [],
   "source": [
    "step = torch.arange(start= 1, end = 1000, step = 99)"
   ]
  },
  {
   "cell_type": "code",
   "execution_count": 41,
   "id": "cb932819-b6c8-4d89-935a-f2b60d96df9b",
   "metadata": {},
   "outputs": [
    {
     "data": {
      "text/plain": [
       "tensor([  1, 100, 199, 298, 397, 496, 595, 694, 793, 892, 991])"
      ]
     },
     "execution_count": 41,
     "metadata": {},
     "output_type": "execute_result"
    }
   ],
   "source": [
    "step"
   ]
  },
  {
   "cell_type": "code",
   "execution_count": 42,
   "id": "d285d767-b7f8-447e-be83-e549f372edd8",
   "metadata": {},
   "outputs": [],
   "source": [
    "#creating tensors like\n",
    "#used when shape is not to be specified, and shape of some other tensor to be use\n",
    "ten_zeros = torch.zeros_like(zero_to_nine)"
   ]
  },
  {
   "cell_type": "code",
   "execution_count": 43,
   "id": "e3e87069-1857-4932-a9d6-f27b298dae55",
   "metadata": {},
   "outputs": [
    {
     "data": {
      "text/plain": [
       "tensor([0, 0, 0, 0, 0, 0, 0, 0, 0, 0])"
      ]
     },
     "execution_count": 43,
     "metadata": {},
     "output_type": "execute_result"
    }
   ],
   "source": [
    "ten_zeros"
   ]
  },
  {
   "cell_type": "markdown",
   "id": "955608b8-2e83-4bdc-92d0-92ff59d46fdf",
   "metadata": {},
   "source": [
    "### Tensor datatypes"
   ]
  },
  {
   "cell_type": "code",
   "execution_count": 44,
   "id": "b6b87a7b-a406-44a1-b93a-b6b278e4442c",
   "metadata": {},
   "outputs": [],
   "source": [
    "float_32_tensor = torch.tensor([3.0, 6.0, 9.0], dtype = None)"
   ]
  },
  {
   "cell_type": "code",
   "execution_count": 45,
   "id": "586317ff-2203-4a60-acb0-4866dcd452ad",
   "metadata": {},
   "outputs": [
    {
     "data": {
      "text/plain": [
       "tensor([3., 6., 9.])"
      ]
     },
     "execution_count": 45,
     "metadata": {},
     "output_type": "execute_result"
    }
   ],
   "source": [
    "float_32_tensor"
   ]
  },
  {
   "cell_type": "code",
   "execution_count": 46,
   "id": "7b889a8f-5728-452b-b665-397472b3ff45",
   "metadata": {},
   "outputs": [
    {
     "data": {
      "text/plain": [
       "torch.float32"
      ]
     },
     "execution_count": 46,
     "metadata": {},
     "output_type": "execute_result"
    }
   ],
   "source": [
    "#default datatype is float32, even when dtype is specified as None)\n",
    "float_32_tensor.dtype"
   ]
  },
  {
   "cell_type": "code",
   "execution_count": 49,
   "id": "92201420-507f-456e-8f4b-a89fc7be114d",
   "metadata": {},
   "outputs": [
    {
     "data": {
      "text/plain": [
       "torch.float16"
      ]
     },
     "execution_count": 49,
     "metadata": {},
     "output_type": "execute_result"
    }
   ],
   "source": [
    "#say float 16, tensor has 3 parameters\n",
    "float_16_tensor = torch.tensor([3.0, 6.0, 9.0], dtype = torch.float16, #what dtype is the tensor\n",
    "                               device = None, #What device is the tensor on\n",
    "                               requires_grad = False) #whether or not to track gradients witht this tensors operation\n",
    "float_16_tensor.dtype"
   ]
  },
  {
   "cell_type": "code",
   "execution_count": 50,
   "id": "891b591b-b9ea-48e9-b28d-00f0792fa503",
   "metadata": {},
   "outputs": [
    {
     "data": {
      "text/plain": [
       "tensor([3., 6., 9.], dtype=torch.float16)"
      ]
     },
     "execution_count": 50,
     "metadata": {},
     "output_type": "execute_result"
    }
   ],
   "source": [
    "#to change dtype\n",
    "float_16_tensor_of_32 = float_16_tensor.type(torch.float16)\n",
    "float_16_tensor_of_32"
   ]
  },
  {
   "cell_type": "code",
   "execution_count": 52,
   "id": "9157c7d2-6abb-4af4-8036-bcf0855a1633",
   "metadata": {},
   "outputs": [
    {
     "data": {
      "text/plain": [
       "tensor([ 9., 36., 81.])"
      ]
     },
     "execution_count": 52,
     "metadata": {},
     "output_type": "execute_result"
    }
   ],
   "source": [
    "float_16_tensor * float_32_tensor#works here but may result in errors when training large neural networks"
   ]
  },
  {
   "cell_type": "code",
   "execution_count": 61,
   "id": "70565251-f1d9-4caa-8354-787e92cd8cb7",
   "metadata": {},
   "outputs": [],
   "source": [
    "long_32_tensor = torch.tensor([3, 6, 9], dtype = torch.long)"
   ]
  },
  {
   "cell_type": "code",
   "execution_count": null,
   "id": "0037cc62-83a3-4e18-ab2b-f951e2f35ef4",
   "metadata": {},
   "outputs": [],
   "source": []
  }
 ],
 "metadata": {
  "kernelspec": {
   "display_name": "PyTorch",
   "language": "python",
   "name": "pytorch-env"
  },
  "language_info": {
   "codemirror_mode": {
    "name": "ipython",
    "version": 3
   },
   "file_extension": ".py",
   "mimetype": "text/x-python",
   "name": "python",
   "nbconvert_exporter": "python",
   "pygments_lexer": "ipython3",
   "version": "3.11.11"
  }
 },
 "nbformat": 4,
 "nbformat_minor": 5
}
